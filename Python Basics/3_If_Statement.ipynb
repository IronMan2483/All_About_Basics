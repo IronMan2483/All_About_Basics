{
 "cells": [
  {
   "cell_type": "markdown",
   "source": [
    "# Introduction to if-Statements\n",
    "\n",
    "## Objectives\n",
    "\n",
    "At the end of this notebook you should be able to:\n",
    "\n",
    "- understand the logic behind if-statement\n",
    "- know the syntax of if-statements (if, elif, else; nested if statements (and or and not))\n",
    "- use comparison operators and define boolean variables\n",
    "- integrate users input with the function input()\n",
    "\n",
    "## Logic\n",
    "\n",
    "The simplest way to control the flow of your Python program is with an `if` statement. From a high level, an `if` statement allows us to check whether or not a certain condition is true. If it is, certain operations will be performed. Otherwise, those operations will not be executed.\n",
    "\n",
    "For example, say we're asked to write a program that takes a bunch of numbers and gives back to us those that are even. We would need to write an `if` statement that identifies whether or not a number is even (we'll talk later about how to do this), and then give back only those that meet the even condition. This is a program that will be entirely within our ability to implement at the end of next week; for now, though, let's focus on the `if` statement.\n",
    "\n",
    "The general syntax of an `if` statement in Python is:\n",
    "```python\n",
    "if condition:\n",
    "    if_block_statement\n",
    "```\n",
    "\n",
    "Notice how the `if` statement, after the condition, ends in a colon `:`. This is the way that Python declares the start of an indentation block. The purposes of indentation blocks manifest themselves in many different ways. With our `if` statement, just know that they mark a section of code that is run under specific circumstances, when the codition is true. What does it mean, then, for a condition to be true? To understand this, let's look at conditionals.\n",
    "\n",
    "## Conditionals\n",
    "\n",
    "Let's tackle this one part at a time. What does it mean to be a condition? Really, all an `if` is checking is whether the conditional evaluates to `True` or `False`. In english, it checks if the condition is true or not. If the condition is true, then the body of the `if` statement is executed. If the condition is false, the `if` block is skipped. Intuitively, true and false are concepts that make perfect sense to us. But, we should take the time to clearly define them in a programming context.\n",
    "\n",
    "`True` and `False` are what we call booleans in logic, and what Python calls them (`bool` for short). They are a special variable type with many potential uses; mainly they are used as a way to put a label on the truth of a statement. There are two specifically reserved words for bools in Python, `True` and `False`. Note that these begin with capital letters."
   ],
   "metadata": {}
  },
  {
   "cell_type": "markdown",
   "source": [
    "__Note:__ Keep in mind that both inputs in an if-statement must be of the same type!"
   ],
   "metadata": {}
  },
  {
   "cell_type": "code",
   "execution_count": 1,
   "source": [
    "type(True)"
   ],
   "outputs": [
    {
     "output_type": "execute_result",
     "data": {
      "text/plain": [
       "bool"
      ]
     },
     "metadata": {},
     "execution_count": 1
    }
   ],
   "metadata": {
    "ExecuteTime": {
     "end_time": "2020-02-03T11:53:01.372095Z",
     "start_time": "2020-02-03T11:53:01.362664Z"
    }
   }
  },
  {
   "cell_type": "code",
   "execution_count": 2,
   "source": [
    "type(False)"
   ],
   "outputs": [
    {
     "output_type": "execute_result",
     "data": {
      "text/plain": [
       "bool"
      ]
     },
     "metadata": {},
     "execution_count": 2
    }
   ],
   "metadata": {
    "ExecuteTime": {
     "end_time": "2020-02-03T11:53:01.377605Z",
     "start_time": "2020-02-03T11:53:01.373799Z"
    }
   }
  },
  {
   "cell_type": "markdown",
   "source": [
    "In addition, a wide variety of statements can evaluate to booleans. The ones that we will focus on today are the equalities,  *equal to* and *not equal to*, and the inequalities, *less than*, *greater than*, *less than or equal to* and *greater than or equal to*. These comparisons are available in Python via `==`, `!=`, `<`, `>`, `<=` and `>=`, respectively. Consider the following (in)equality statements. Try changing them to other numerics and see what happens."
   ],
   "metadata": {}
  },
  {
   "cell_type": "code",
   "execution_count": 3,
   "source": [
    "1 == 2"
   ],
   "outputs": [
    {
     "output_type": "execute_result",
     "data": {
      "text/plain": [
       "False"
      ]
     },
     "metadata": {},
     "execution_count": 3
    }
   ],
   "metadata": {
    "ExecuteTime": {
     "end_time": "2020-02-03T11:53:01.383289Z",
     "start_time": "2020-02-03T11:53:01.379756Z"
    }
   }
  },
  {
   "cell_type": "code",
   "execution_count": 4,
   "source": [
    "1 != 2"
   ],
   "outputs": [
    {
     "output_type": "execute_result",
     "data": {
      "text/plain": [
       "True"
      ]
     },
     "metadata": {},
     "execution_count": 4
    }
   ],
   "metadata": {
    "ExecuteTime": {
     "end_time": "2020-02-03T11:53:01.388673Z",
     "start_time": "2020-02-03T11:53:01.385142Z"
    }
   }
  },
  {
   "cell_type": "code",
   "execution_count": 5,
   "source": [
    "1 < 2"
   ],
   "outputs": [
    {
     "output_type": "execute_result",
     "data": {
      "text/plain": [
       "True"
      ]
     },
     "metadata": {},
     "execution_count": 5
    }
   ],
   "metadata": {
    "ExecuteTime": {
     "end_time": "2020-02-03T11:53:01.394825Z",
     "start_time": "2020-02-03T11:53:01.390376Z"
    }
   }
  },
  {
   "cell_type": "code",
   "execution_count": 6,
   "source": [
    "1 > 2"
   ],
   "outputs": [
    {
     "output_type": "execute_result",
     "data": {
      "text/plain": [
       "False"
      ]
     },
     "metadata": {},
     "execution_count": 6
    }
   ],
   "metadata": {
    "ExecuteTime": {
     "end_time": "2020-02-03T11:53:01.400648Z",
     "start_time": "2020-02-03T11:53:01.396761Z"
    }
   }
  },
  {
   "cell_type": "code",
   "execution_count": 7,
   "source": [
    "1 <= 2"
   ],
   "outputs": [
    {
     "output_type": "execute_result",
     "data": {
      "text/plain": [
       "True"
      ]
     },
     "metadata": {},
     "execution_count": 7
    }
   ],
   "metadata": {
    "ExecuteTime": {
     "end_time": "2020-02-03T11:53:01.406052Z",
     "start_time": "2020-02-03T11:53:01.402467Z"
    }
   }
  },
  {
   "cell_type": "code",
   "execution_count": 8,
   "source": [
    "1 >= 2"
   ],
   "outputs": [
    {
     "output_type": "execute_result",
     "data": {
      "text/plain": [
       "False"
      ]
     },
     "metadata": {},
     "execution_count": 8
    }
   ],
   "metadata": {
    "ExecuteTime": {
     "end_time": "2020-02-03T11:53:01.411632Z",
     "start_time": "2020-02-03T11:53:01.408212Z"
    }
   }
  },
  {
   "cell_type": "markdown",
   "source": [
    "## Using the If\n",
    "\n",
    "Now that we understand conditionals, let's talk about how we can use them with variables to make our programs dynamic. Consider the following code block.\n",
    "\n",
    "```python\n",
    "if x > 5:\n",
    "    x += 10\n",
    "print(x)\n",
    "```\n",
    "\n",
    "**Note**: The print function simply pipes the value passed to it to the console.\n",
    "\n",
    "In the above code, we don't need to know what the value of `x` is, but we can say that if it's greater than 5, it will come out of the code block 10 greater than before the `if` statement.\n",
    "\n",
    "From what we know so far, this functionality isn't super useful. So, let's quickly go over a way that we can make our Python more flexible. Until now, we've had to hard code any variable or value that we want to use in our program. Python has a built in way to accept input from the user of a program. Let's examine this now. Consider the following code:"
   ],
   "metadata": {}
  },
  {
   "cell_type": "code",
   "execution_count": 12,
   "source": [
    "x = input('Please enter a number: ')\n",
    "print(x)"
   ],
   "outputs": [
    {
     "output_type": "stream",
     "name": "stdout",
     "text": [
      "2\n"
     ]
    }
   ],
   "metadata": {
    "ExecuteTime": {
     "end_time": "2020-02-03T11:53:03.876556Z",
     "start_time": "2020-02-03T11:53:01.413240Z"
    }
   }
  },
  {
   "cell_type": "markdown",
   "source": [
    "Try executing the above cell (with Shift-Enter). `input()` will halt anything else from happening, so nothing will happen until you type something and press enter. This is the function that we will be using to get input from a user of our programs. We will use it frequently for the next couple of weeks as you write solutions to the assignment questions. Now that we have a way to get arbitrary input from the user of our programs, we can begin to see the full power of the `if`. Let's combine the last two code blocks from above:"
   ],
   "metadata": {}
  },
  {
   "cell_type": "code",
   "execution_count": 14,
   "source": [
    "x = int(input('Please enter a number: '))\n",
    "if x > 5:\n",
    "    x += 10\n",
    "print(x)"
   ],
   "outputs": [
    {
     "output_type": "stream",
     "name": "stdout",
     "text": [
      "1\n"
     ]
    }
   ],
   "metadata": {
    "ExecuteTime": {
     "end_time": "2020-02-03T11:53:44.215172Z",
     "start_time": "2020-02-03T11:53:42.333808Z"
    },
    "scrolled": true
   }
  },
  {
   "cell_type": "markdown",
   "source": [
    "Try running the above cell, entering different values. Given what we know the `if` statement is supposed to do, are you getting values that you'd expect?\n",
    "\n",
    "**Note**: `input()` actually interprets the input as strings, so we have to manually tell Python to treat the number we pass as an integer with `int()`. We'll talk about strings more next week.\n",
    "\n",
    "This may seem like a trivial example, and therefore, not very exciting. Let me assure you, though, that what you have just learned is amazingly powerful! So, congratulations!"
   ],
   "metadata": {}
  },
  {
   "cell_type": "markdown",
   "source": [
    "Result: Values as expected."
   ],
   "metadata": {}
  },
  {
   "cell_type": "markdown",
   "source": [
    "## Building on the If\n",
    "\n",
    "Ok, so, the `if` is cool. But, it seems like there are only so many things you can do with it. Let's summarize this with what's known as a *flow diagram*. (If you don't see an image below, make sure that you started this notebook from the folder for the day, not the preclass folder.)\n",
    "\n",
    "![](https://8177home.files.wordpress.com/2018/11/if-statement.jpg)\n",
    "\n",
    "\n",
    "You can see that there are two branches created by the `if` statement, one when the condition is true, and the other when it is false. In the former case, the conditional code is executed, and in the latter, the conditional code is ignored. But what if we wanted to check more than one thing (i.e. have more than two branches in our flow diagram)?\n",
    "\n",
    "Python gives us two ways to do this. First, by offering other conditionals, `elif` and `else`, and second by allowing us to combine conditions with logicals `and`, `or` and `not`.\n",
    "\n",
    "### Elif and Else\n",
    "\n",
    "In addition to the `if`, Python provides us with two other statements to build out those logical trees, the `elif` and the `else`. The `elif` is just like the `if` - it accepts a condition to check the truth of and has an indented code block that is executed when that condition evaluates to `True`. The `else` is similar, __but it doesn't accept a condition.__ Instead, it mainly acts as a catch all for any other situation that you didn't cover with your `if`s and `elif`s. Note that there can only be a single `if` and up to a single `else`, but any number of `elif`s in an `if`-`elif`-`else` block. Let's take a closer look at this in the following code block:"
   ],
   "metadata": {}
  },
  {
   "cell_type": "code",
   "execution_count": 19,
   "source": [
    "x = int(input('Please enter a number: '))\n",
    "if x < 0:\n",
    "    print('You entered a negative number.')\n",
    "elif x > 0:\n",
    "    print('You entered a positive number.')\n",
    "else:\n",
    "    print('You entered the number 0.')"
   ],
   "outputs": [
    {
     "output_type": "error",
     "ename": "ValueError",
     "evalue": "invalid literal for int() with base 10: '?'",
     "traceback": [
      "\u001b[0;31m---------------------------------------------------------------------------\u001b[0m",
      "\u001b[0;31mValueError\u001b[0m                                Traceback (most recent call last)",
      "\u001b[0;32m/var/folders/k7/35tcvfmj1hzbxhmfk0j8bh0r0000gn/T/ipykernel_74263/1437081155.py\u001b[0m in \u001b[0;36m<module>\u001b[0;34m\u001b[0m\n\u001b[0;32m----> 1\u001b[0;31m \u001b[0mx\u001b[0m \u001b[0;34m=\u001b[0m \u001b[0mint\u001b[0m\u001b[0;34m(\u001b[0m\u001b[0minput\u001b[0m\u001b[0;34m(\u001b[0m\u001b[0;34m'Please enter a number: '\u001b[0m\u001b[0;34m)\u001b[0m\u001b[0;34m)\u001b[0m\u001b[0;34m\u001b[0m\u001b[0;34m\u001b[0m\u001b[0m\n\u001b[0m\u001b[1;32m      2\u001b[0m \u001b[0;32mif\u001b[0m \u001b[0mx\u001b[0m \u001b[0;34m<\u001b[0m \u001b[0;36m0\u001b[0m\u001b[0;34m:\u001b[0m\u001b[0;34m\u001b[0m\u001b[0;34m\u001b[0m\u001b[0m\n\u001b[1;32m      3\u001b[0m     \u001b[0mprint\u001b[0m\u001b[0;34m(\u001b[0m\u001b[0;34m'You entered a negative number.'\u001b[0m\u001b[0;34m)\u001b[0m\u001b[0;34m\u001b[0m\u001b[0;34m\u001b[0m\u001b[0m\n\u001b[1;32m      4\u001b[0m \u001b[0;32melif\u001b[0m \u001b[0mx\u001b[0m \u001b[0;34m>\u001b[0m \u001b[0;36m0\u001b[0m\u001b[0;34m:\u001b[0m\u001b[0;34m\u001b[0m\u001b[0;34m\u001b[0m\u001b[0m\n\u001b[1;32m      5\u001b[0m     \u001b[0mprint\u001b[0m\u001b[0;34m(\u001b[0m\u001b[0;34m'You entered a positive number.'\u001b[0m\u001b[0;34m)\u001b[0m\u001b[0;34m\u001b[0m\u001b[0;34m\u001b[0m\u001b[0m\n",
      "\u001b[0;31mValueError\u001b[0m: invalid literal for int() with base 10: '?'"
     ]
    }
   ],
   "metadata": {
    "ExecuteTime": {
     "end_time": "2020-02-03T14:44:59.606574Z",
     "start_time": "2020-02-03T14:44:55.768037Z"
    },
    "scrolled": true
   }
  },
  {
   "cell_type": "markdown",
   "source": [
    "Try running the above cell and enter different numbers. Before you submit the number, think about what you think will be printed based on what you see in the conditionals. Can you explain what this `if`-`elif`-`else` block is doing in English?"
   ],
   "metadata": {}
  },
  {
   "cell_type": "markdown",
   "source": [
    "Let's specifically talk about how the `if`-`elif`-`else` statements work. The programmers of Python designed these statements so that they would execute highly efficiently. To do this, Python goes through your `if`-`elif`-`else` statements one at a time. When it encounters a condition that evaluates to `True`, it will execute the corresponding conditional code block **and** then skip to the line directly following the last conditional block. Let's examine this in the following code:"
   ],
   "metadata": {}
  },
  {
   "cell_type": "code",
   "execution_count": 21,
   "source": [
    "x = int(input('Please enter a number: '))\n",
    "if x > 5:\n",
    "    print('You entered a number bigger than 5.')\n",
    "elif x > 0:\n",
    "    print('You entered a positive number.')\n",
    "elif x < 0:\n",
    "    print('You entered a negative number.')\n",
    "else:\n",
    "    print('You entered the number 0.')"
   ],
   "outputs": [
    {
     "output_type": "stream",
     "name": "stdout",
     "text": [
      "You entered a number bigger than 5.\n"
     ]
    }
   ],
   "metadata": {
    "ExecuteTime": {
     "end_time": "2020-02-03T14:45:15.855255Z",
     "start_time": "2020-02-03T14:45:13.319331Z"
    }
   }
  },
  {
   "cell_type": "markdown",
   "source": [
    "Try running the above code and enter the number 5, and then again with 6. Before you do so, what do you think will be printed? Try it out. You may get slightly unexpected results. But, they will soon make perfect sense.\n",
    "\n",
    "Knowing what is going on in the above code will allow you full control over the flow of your programs. In the first case, when you entered 5, you got something unsurprising. The only condition that evaluates to true when `x` is 5 is the second one.\n",
    "\n",
    "However, the second example prints only \"You entered a number bigger than 5.\" And, even though 6 is greater than 0, 'You entered a positive number.' was not printed. This shows that only one of the conditional blocks in an `if`-`elif`-`else` statement will ever be evaluated. Sounds efficient, doesn't it?\n",
    "\n",
    "**Note**: The `else` part of the statement is actually optional. If it is not included, then we'd notice that at most one of the conditional blocks in an `if`-`else` statement will be evaluated."
   ],
   "metadata": {}
  },
  {
   "cell_type": "code",
   "execution_count": null,
   "source": [],
   "outputs": [],
   "metadata": {}
  },
  {
   "cell_type": "markdown",
   "source": [
    "### And, Or and Not\n",
    "\n",
    "There are plenty of times when we want to execute some specific code when more than one condition is true. Check out the following code snippet where we want to check if a number is between 5 and 10. Change the value of `x` in the next cell so that it is printed."
   ],
   "metadata": {}
  },
  {
   "cell_type": "code",
   "execution_count": 22,
   "source": [
    "x = 5\n",
    "if x > 5:\n",
    "    if x < 10:\n",
    "        print(x)"
   ],
   "outputs": [],
   "metadata": {
    "ExecuteTime": {
     "end_time": "2020-02-03T11:53:08.522244Z",
     "start_time": "2020-02-03T11:53:08.515308Z"
    }
   }
  },
  {
   "cell_type": "markdown",
   "source": [
    "We can see that what this **nested** `if` statement is checking is if `x` is greater than 5, and if so, then the conditional block is entered. Next, it checks if `x` is less than 10, and if this is true `x` is printed. We can intuitively guess that there is a better way to check for this condition... And there is!!!\n",
    "\n",
    "Python gives us full access to what are known as boolean operations. The ones that we will use most often are `and`, `or`, and `not`. Both `and` and `or` take two conditions as inputs, while `not` takes only a single condition. All of these operations return a single boolean. `and` requires both conditions to be `True` to return `True`, otherwise it will return `False`. `or` requires only one of the conditions to be `True` to return `True`; the only time it returns `False` is when both inputs are `False`. The `not` switches the truth of the input condition. These operations are derived from formal logic, and you can find a full discussion of their intricacies [here](https://en.wikipedia.org/wiki/Truth_table).\n",
    "\n",
    "What this means is that we now have a natural way to combine conditions. The previously nested `if` statement can now be written as a simple `if x > 5 and x < 10`. We can also chain other interesting conditionals together. Change the value of `x` in the next cell so that it isn't printed and in the cell after so that it is."
   ],
   "metadata": {}
  },
  {
   "cell_type": "code",
   "execution_count": null,
   "source": [
    "x = 4\n",
    "if x > 10 or x < 5:\n",
    "    print(x)"
   ],
   "outputs": [],
   "metadata": {
    "ExecuteTime": {
     "end_time": "2020-02-03T11:53:08.528373Z",
     "start_time": "2020-02-03T11:53:08.524546Z"
    }
   }
  },
  {
   "cell_type": "code",
   "execution_count": null,
   "source": [
    "x = 6\n",
    "if not (x <= 10 and x >= 5):\n",
    "    print(x)"
   ],
   "outputs": [],
   "metadata": {
    "ExecuteTime": {
     "end_time": "2020-02-03T11:53:08.536062Z",
     "start_time": "2020-02-03T11:53:08.532205Z"
    }
   }
  },
  {
   "cell_type": "markdown",
   "source": [
    "__Note: As mentioned above `not`does only take one single condition! In order to feed it more than one we definitely need the brackets!__"
   ],
   "metadata": {}
  },
  {
   "cell_type": "markdown",
   "source": [
    "Notice how the first `if` in the above code snippet uses an `or`, printing `x` if it is greater than 10 or less than 5. Inherently, this statement is also saying that it will print `x` if `x` is not between 5 and 10, which is expressed in the second `if` statement. This illustrates an important point - there is always more than one way to accomplish the same thing in programming."
   ],
   "metadata": {}
  },
  {
   "cell_type": "markdown",
   "source": [
    "You can also combine several statements:"
   ],
   "metadata": {}
  },
  {
   "cell_type": "code",
   "execution_count": 23,
   "source": [
    "country = \"US\"\n",
    "age = 18\n",
    "\n",
    "if (country == \"US\" and age>=21) or (country != \"US\" and age >= 18):\n",
    "    print(\"This person can legally drink alcohol!\")\n",
    "else:\n",
    "    print(\"You are either too young or in the wrong country!\")"
   ],
   "outputs": [
    {
     "output_type": "stream",
     "name": "stdout",
     "text": [
      "You are either too young or in the wrong country!\n"
     ]
    }
   ],
   "metadata": {}
  },
  {
   "cell_type": "markdown",
   "source": [
    "__Note: Again we need the brackets to construct a condition with more than one part. In this case we use `and` to combine country and age.__"
   ],
   "metadata": {}
  },
  {
   "cell_type": "markdown",
   "source": [
    "Change one variable so that the person can drink legally!"
   ],
   "metadata": {}
  },
  {
   "cell_type": "code",
   "execution_count": 24,
   "source": [
    "country = \"GER\"\n",
    "age = 18\n",
    "if (country == \"US\" and age>=21) or (country != \"US\" and age >= 18):\n",
    "    print(\"This person can legally drink alcohol!\")\n",
    "else:\n",
    "    print(\"You are either too young or in the wrong country!\")"
   ],
   "outputs": [
    {
     "output_type": "stream",
     "name": "stdout",
     "text": [
      "This person can legally drink alcohol!\n"
     ]
    }
   ],
   "metadata": {}
  },
  {
   "cell_type": "markdown",
   "source": [
    "## Check your understanding\n",
    "\n",
    "**If Questions**\n",
    "\n",
    "1. Write an `if` statement to check if a number is smaller than 100.\n",
    "2. Write some code that accepts a user inputted number. It checks to see if that number is positive, and if it is it adds 50 to the number. Then print the number.\n",
    "\n",
    "**Elif Else Questions**\n",
    "1. Write an `if`-`elif`-`else` statement that does the following: \n",
    "\n",
    " * Prints \"This is a single digit number.\" if `x` is a single digit number\n",
    " * Prints \"This is a double digit number.\" if `x` is a double digit number \n",
    " * Prints \"This is a big number.\" otherwise.\n",
    " \n",
    "**And Or Not Questions**\n",
    "\n",
    "1. Write the condition in Python in a single statement: if x is between 20 and 30 print x.\n",
    "2. Write the following condition in two ways using Python: if x is greater than 10 print x.\n",
    "3. Write the following condition in Python: if x isn't a positive number print x.\n",
    "4. Write the following condition in Python: if x is between 1 and 50 except the numbers between 25 to 30 print x."
   ],
   "metadata": {}
  },
  {
   "cell_type": "code",
   "execution_count": 27,
   "source": [
    "# 1. \n",
    "number = 3\n",
    "\n",
    "if number <100: \n",
    "     print(f'Your input {number} is smaller than 100.')"
   ],
   "outputs": [
    {
     "output_type": "stream",
     "name": "stdout",
     "text": [
      "Your input 3 is smaller than 100.\n"
     ]
    }
   ],
   "metadata": {}
  },
  {
   "cell_type": "code",
   "execution_count": 28,
   "source": [
    "# 2.\n",
    "x = int(input('Please enter a number: '))\n",
    "if x > 0:\n",
    "    x += 50\n",
    "    print(x)\n",
    "else:\n",
    "    print('Your number is negative.')"
   ],
   "outputs": [
    {
     "output_type": "stream",
     "name": "stdout",
     "text": [
      "Your number is negative.\n"
     ]
    }
   ],
   "metadata": {}
  },
  {
   "cell_type": "code",
   "execution_count": 35,
   "source": [
    "# Elif Else\n",
    "x = int(input('Please enter a number: '))\n",
    "if x < 10 and x > 0:\n",
    "    print('This is a single digit number.')\n",
    "elif x >= 10 and x <100:\n",
    "    print('This is a double digit number.')\n",
    "elif x <= 0:\n",
    "    print('Not a valid input.')\n",
    "else:\n",
    "    print('This is a big number.')"
   ],
   "outputs": [
    {
     "output_type": "stream",
     "name": "stdout",
     "text": [
      "Not a valid input.\n"
     ]
    }
   ],
   "metadata": {}
  },
  {
   "cell_type": "code",
   "execution_count": null,
   "source": [
    "\n",
    "# 1\n",
    "x = int(input('Please enter a number: '))\n",
    "if x >= 20 and x <= 30:\n",
    "    print(x)"
   ],
   "outputs": [],
   "metadata": {}
  },
  {
   "cell_type": "code",
   "execution_count": null,
   "source": [
    "# 2\n",
    "# 1)\n",
    "x = int(input('Please enter a number: '))\n",
    "if x > 10:\n",
    "    print(x)\n",
    "\n",
    "# 2)\n",
    "x = 11\n",
    "if x > 10:\n",
    "    print(x)"
   ],
   "outputs": [],
   "metadata": {}
  },
  {
   "cell_type": "code",
   "execution_count": null,
   "source": [
    "# 3\n",
    "x = int(input('Please enter a number: '))\n",
    "if x < 0:\n",
    "    print(x)"
   ],
   "outputs": [],
   "metadata": {}
  },
  {
   "cell_type": "code",
   "execution_count": 63,
   "source": [
    "# 4\n",
    "x = int(input('Please enter a number: '))\n",
    "if (x >= 1 and x <= 50):\n",
    "     if  (x >= 25 and x <= 30) and (x < 1 and x > 50):\n",
    "         print('Not in the valid range.')\n",
    "    print(x)"
   ],
   "outputs": [
    {
     "output_type": "error",
     "ename": "IndentationError",
     "evalue": "unindent does not match any outer indentation level (<tokenize>, line 6)",
     "traceback": [
      "\u001b[0;36m  File \u001b[0;32m\"<tokenize>\"\u001b[0;36m, line \u001b[0;32m6\u001b[0m\n\u001b[0;31m    print(x)\u001b[0m\n\u001b[0m    ^\u001b[0m\n\u001b[0;31mIndentationError\u001b[0m\u001b[0;31m:\u001b[0m unindent does not match any outer indentation level\n"
     ]
    }
   ],
   "metadata": {}
  },
  {
   "cell_type": "code",
   "execution_count": 70,
   "source": [
    "x = int(input('Please enter a number: '))\n",
    "if (x >= 1 and x <= 50) and (x < 25 and x > 30):\n",
    "    print(x)\n"
   ],
   "outputs": [],
   "metadata": {}
  },
  {
   "cell_type": "code",
   "execution_count": null,
   "source": [
    "x = int(input('Please enter a number: ')\n",
    "for x in range(1,50):\n",
    "    if x"
   ],
   "outputs": [],
   "metadata": {}
  },
  {
   "cell_type": "markdown",
   "source": [
    "No solution yet for the last time."
   ],
   "metadata": {}
  }
 ],
 "metadata": {
  "kernelspec": {
   "name": "python3",
   "display_name": "Python 3.9.4 64-bit ('.venv': venv)"
  },
  "language_info": {
   "codemirror_mode": {
    "name": "ipython",
    "version": 3
   },
   "file_extension": ".py",
   "mimetype": "text/x-python",
   "name": "python",
   "nbconvert_exporter": "python",
   "pygments_lexer": "ipython3",
   "version": "3.9.4"
  },
  "toc": {
   "base_numbering": 1,
   "nav_menu": {},
   "number_sections": true,
   "sideBar": true,
   "skip_h1_title": false,
   "title_cell": "Table of Contents",
   "title_sidebar": "Contents",
   "toc_cell": false,
   "toc_position": {},
   "toc_section_display": true,
   "toc_window_display": false
  },
  "varInspector": {
   "cols": {
    "lenName": 16,
    "lenType": 16,
    "lenVar": 40
   },
   "kernels_config": {
    "python": {
     "delete_cmd_postfix": "",
     "delete_cmd_prefix": "del ",
     "library": "var_list.py",
     "varRefreshCmd": "print(var_dic_list())"
    },
    "r": {
     "delete_cmd_postfix": ") ",
     "delete_cmd_prefix": "rm(",
     "library": "var_list.r",
     "varRefreshCmd": "cat(var_dic_list()) "
    }
   },
   "types_to_exclude": [
    "module",
    "function",
    "builtin_function_or_method",
    "instance",
    "_Feature"
   ],
   "window_display": false
  },
  "interpreter": {
   "hash": "c9d27ae3a8827d0cd47171f24946f8cf80ee80ff4aa9707ffe1528ffaaf7bb6c"
  }
 },
 "nbformat": 4,
 "nbformat_minor": 4
}