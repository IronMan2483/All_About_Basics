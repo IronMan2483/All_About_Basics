{
 "cells": [
  {
   "cell_type": "markdown",
   "metadata": {},
   "source": [
    "# __Random Forrest__"
   ]
  },
  {
   "cell_type": "markdown",
   "metadata": {},
   "source": [
    "## __Import Packages and Tools__"
   ]
  },
  {
   "cell_type": "markdown",
   "metadata": {},
   "source": [
    "import numpy as np\n",
    "\n",
    "import pandas as pd\n",
    "\n",
    "\n",
    "import metpy.calc as mpcalc\n",
    "\n",
    "from metpy.units import units\n",
    "\n",
    "\n",
    "from math import sqrt\n",
    "\n",
    "\n",
    "from sklearn.preprocessing import MinMaxScaler,StandardScaler\n",
    "\n",
    "from sklearn.metrics import mean_squared_error\n",
    "\n",
    "from sklearn.ensemble import RandomForestRegressor\n",
    "\n",
    "from sklearn.linear_model import SGDRegressor\n",
    "\n",
    "from sklearn.model_selection import GridSearchCV\n",
    "\n",
    "from sklearn.metrics import confusion_matrix\n",
    "\n",
    "\n",
    "from yellowbrick.regressor import ResidualsPlot\n",
    "\n",
    "import matplotlib.pyplot as plt\n",
    "\n",
    "import itertools"
   ]
  },
  {
   "cell_type": "markdown",
   "metadata": {},
   "source": [
    "---\n",
    "\n",
    "## __Import Dataset(s)__"
   ]
  },
  {
   "cell_type": "markdown",
   "metadata": {},
   "source": [
    "X_test = pd.read_csv('../data/file_test.csv')\n",
    "\n",
    "\n",
    "X_train = pd.read_csv('../data/file_train.csv')"
   ]
  },
  {
   "cell_type": "markdown",
   "metadata": {},
   "source": [
    "---\n",
    "\n",
    "## __Overview Dataset(s)__"
   ]
  },
  {
   "cell_type": "markdown",
   "metadata": {},
   "source": [
    "X_train.head()\n",
    "\n",
    "\n",
    "X_test.head()\n",
    "\n",
    "<br />\n",
    "\n",
    "print('Train:', file_train.shape)\n",
    "\n",
    "print('Test:', file_test.shape)"
   ]
  },
  {
   "cell_type": "markdown",
   "metadata": {},
   "source": [
    "---\n",
    "\n",
    "## __Define y_train and y_test__"
   ]
  },
  {
   "cell_type": "markdown",
   "metadata": {},
   "source": [
    "y_train = train_data['target']\n",
    "\n",
    "y_test = test_data['target']\n",
    "\n",
    "<br />\n",
    "\n",
    "X_train = train_data.drop(['target','Unnamed: 0','Unnamed: 0.1','ID'], axis = 1)\n",
    "\n",
    "X_test = test_data.drop(['target','Unnamed: 0','Unnamed: 0.1','ID'], axis = 1)\n",
    "\n",
    "<br />\n",
    "\n",
    "print('y Train:', y_train.shape)\n",
    "\n",
    "print('y Test:', y_test.shape)\n",
    "\n",
    "print('X Train:', X_train.shape)\n",
    "\n",
    "print('X Test:', X_test.shape)"
   ]
  },
  {
   "cell_type": "markdown",
   "metadata": {},
   "source": [
    "---\n",
    "\n",
    "## __Create Dummy Features if needed__"
   ]
  },
  {
   "cell_type": "markdown",
   "metadata": {},
   "source": [
    "X_train = pd.get_dummies(X_train, drop_first=True)\n",
    "\n",
    "\n",
    "X_test = pd.get_dummies(X_test, drop_first=True)\n",
    "\n",
    "\n",
    "print('X Train:', X_train.shape)\n",
    "\n",
    "\n",
    "print('X Test:', X_test.shape)"
   ]
  },
  {
   "cell_type": "markdown",
   "metadata": {},
   "source": [
    "---\n",
    "---\n",
    "\n",
    "# __Random Forrest with scaled met features and log transform__\n",
    "\n",
    "---"
   ]
  },
  {
   "cell_type": "markdown",
   "metadata": {},
   "source": [
    "## __Scaling with Min Max scaler__"
   ]
  },
  {
   "cell_type": "markdown",
   "metadata": {},
   "source": [
    "scaler = MinMaxScaler()\n",
    "\n",
    "X_train_met_scaled_min_max = scaler.fit_transform(X_train_met)\n",
    "\n",
    "X_test_met_scaled_min_max = scaler.transform(X_test_met)"
   ]
  },
  {
   "cell_type": "markdown",
   "metadata": {},
   "source": [
    "---\n",
    "\n",
    "## __Log Transform__"
   ]
  },
  {
   "cell_type": "markdown",
   "metadata": {},
   "source": [
    "y_train_log = np.log(y_train)\n",
    "\n",
    "y_test_log = np.log(y_test)"
   ]
  },
  {
   "cell_type": "markdown",
   "metadata": {},
   "source": [
    "---\n",
    "\n",
    "## __Train model log__"
   ]
  },
  {
   "cell_type": "markdown",
   "metadata": {},
   "source": [
    "#### Create the model with 100 trees\n",
    "\n",
    "\n",
    "rf_log = RandomForestRegressor(n_estimators=200, random_state=42, max_depth = 10, max_features = 'sqrt', n_jobs=-1, verbose = 1)\n",
    "\n",
    "rf_log.fit(X_train_met_scaled_min_max, y_train_log)"
   ]
  },
  {
   "cell_type": "markdown",
   "metadata": {},
   "source": [
    "---\n",
    "\n",
    "## __Predictions__"
   ]
  },
  {
   "cell_type": "markdown",
   "metadata": {},
   "source": [
    "#### log transformed dataset\n",
    "\n",
    "y_pred_train_rf_log = rf_log.predict(X_train_met_scaled_min_max)\n",
    "\n",
    "y_pred_test_rf_log = rf_log.predict(X_test_met_scaled_min_max)\n",
    "\n",
    "<br />\n",
    "\n",
    "print('RMSE Train log:', sqrt(mean_squared_error(y_train_log, y_pred_train_rf_log)))\n",
    "\n",
    "print('RMSE Test log:', sqrt(mean_squared_error(y_test_log, y_pred_test_rf_log)))"
   ]
  },
  {
   "cell_type": "markdown",
   "metadata": {},
   "source": [
    "#### original/not transformed dataset\n",
    "\n",
    "y_pred_train_rf_unlog = np.exp(y_pred_train_rf_log)\n",
    "\n",
    "y_pred_test_rf_unlog = np.exp(y_pred_test_rf_log)\n",
    "\n",
    "<br />\n",
    "\n",
    "print('RMSE Train unlog:', sqrt(mean_squared_error(y_train, y_pred_train_rf_unlog)))\n",
    "\n",
    "print('RMSE Test unlog:', sqrt(mean_squared_error(y_test, y_pred_test_rf_unlog)))\n"
   ]
  },
  {
   "cell_type": "markdown",
   "metadata": {},
   "source": [
    "---\n",
    "---\n",
    "\n",
    "# __GridSearch__"
   ]
  },
  {
   "cell_type": "markdown",
   "metadata": {},
   "source": [
    "param_forest = {'max_depth' : [2, 5, 10, 'None'],\n",
    "                'min_samples_split' : [2, 5, 10, 20],\n",
    "                'min_samples_leaf' : [1, 2, 5, 10]}\n",
    "\n",
    "\n",
    "\n",
    "grid_forest = RandomizedSearchCV(rf, param_distributions = param_forest, cv = 5, scoring = 'neg_root_mean_squared_error',\n",
    "                            verbose = 2, n_jobs = -1)"
   ]
  },
  {
   "cell_type": "markdown",
   "metadata": {},
   "source": [
    "grid_forest.fit(X_train_scaled, y_train_log)"
   ]
  },
  {
   "cell_type": "markdown",
   "metadata": {},
   "source": [
    "#### Best Estimator, Score and Parameter\n",
    "\n",
    "grid_forest.best_estimator_\n",
    "\n",
    "grid_forest.best_score_\n",
    "\n",
    "grid_forest.best_params_"
   ]
  },
  {
   "cell_type": "markdown",
   "metadata": {},
   "source": [
    "best_model_forest = grid_forest.best_estimator_\n",
    "\n",
    "best_model_forest"
   ]
  },
  {
   "cell_type": "markdown",
   "metadata": {},
   "source": [
    "best_model_forest.fit(X_train_scaled, y_train_log)"
   ]
  },
  {
   "cell_type": "markdown",
   "metadata": {},
   "source": [
    "y_bestpred_train = best_model_forest.predict(X_train_scaled)\n",
    "\n",
    "y_bestpred_test = best_model_forest.predict(X_test_scaled)\n",
    "\n",
    "<br />\n",
    "\n",
    "print(sqrt(mean_squared_error(y_train_log, y_bestpred_train)))\n",
    "\n",
    "print(sqrt(mean_squared_error(y_test_log, y_bestpred_test)))"
   ]
  },
  {
   "cell_type": "markdown",
   "metadata": {},
   "source": [
    "---\n",
    "---\n",
    "\n",
    "# __Error Analysis / Residuals Plot__"
   ]
  },
  {
   "cell_type": "markdown",
   "metadata": {},
   "source": [
    "---\n",
    "\n",
    "## __Residuals Plot with log transformed dataset(s)__"
   ]
  },
  {
   "cell_type": "markdown",
   "metadata": {},
   "source": [
    "visualizer = ResidualsPlot(rf_log)\n",
    "<br />\n",
    "\n",
    "#### Fit the training data to the visualizer\n",
    "visualizer.fit(X_train_met_scaled_min_max, y_train_log)  "
   ]
  },
  {
   "cell_type": "markdown",
   "metadata": {},
   "source": [
    "#### Evaluate the model on the test data\n",
    "visualizer.score(X_test_met_scaled_min_max, y_test_log)  \n",
    "\n",
    "visualizer.show()"
   ]
  },
  {
   "cell_type": "markdown",
   "metadata": {},
   "source": [
    "#### Plot with Visualizer\n",
    "\n",
    "fig=plt.figure(figsize=(6, 6))\n",
    "\n",
    "plt.axline([1, 1], [2, 2],color='lightgrey')\n",
    "\n",
    "plt.scatter(y_train_log,y_pred_train_rf_log)\n",
    "\n",
    "plt.scatter(y_test_log,y_pred_test_rf_log)\n",
    "\n",
    "plt.xticks(np.arange(0,7.1,1));\n",
    "\n",
    "plt.yticks(np.arange(0,7.1,1));\n",
    "\n",
    "plt.xlabel(\"log(PM2.5) actual\");\n",
    "\n",
    "plt.ylabel(\"log(PM2.5) predicted\");"
   ]
  },
  {
   "cell_type": "markdown",
   "metadata": {},
   "source": [
    "---\n",
    "\n",
    "## __Residuals Plot with unlog transformed dataset(s)__"
   ]
  },
  {
   "cell_type": "markdown",
   "metadata": {},
   "source": [
    "#### Plot with Visualizer\n",
    "\n",
    "fig=plt.figure(figsize=(6, 6))\n",
    "\n",
    "plt.axline([1, 1], [2, 2],color='lightgrey')\n",
    "\n",
    "plt.scatter(y_train,y_pred_train_rf_unlog)\n",
    "\n",
    "plt.scatter(y_test,y_pred_test_rf_unlog)\n",
    "\n",
    "plt.xticks(np.arange(0,501,100));\n",
    "\n",
    "plt.yticks(np.arange(0,501,100));\n",
    "\n",
    "plt.xlabel(\"PM2.5 actual\");\n",
    "\n",
    "plt.ylabel(\"PM2.5 predicted\");"
   ]
  }
 ],
 "metadata": {
  "language_info": {
   "name": "python"
  },
  "orig_nbformat": 4
 },
 "nbformat": 4,
 "nbformat_minor": 2
}
