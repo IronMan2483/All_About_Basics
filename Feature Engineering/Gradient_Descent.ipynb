{
 "cells": [
  {
   "cell_type": "markdown",
   "metadata": {},
   "source": [
    "# __Gradient Descent with scaled MET features__"
   ]
  },
  {
   "cell_type": "markdown",
   "metadata": {},
   "source": [
    "## __Import Packages and Tools__"
   ]
  },
  {
   "cell_type": "markdown",
   "metadata": {},
   "source": [
    "import numpy as np\n",
    "\n",
    "import pandas as pd\n",
    "\n",
    "<br />\n",
    "\n",
    "import metpy.calc as mpcalc\n",
    "\n",
    "from metpy.units import units\n",
    "\n",
    "<br />\n",
    "\n",
    "from sklearn.preprocessing import MinMaxScaler,StandardScaler\n",
    "\n",
    "from math import sqrt, exp\n",
    "\n",
    "from sklearn.metrics import mean_squared_error\n",
    "\n",
    "<br />\n",
    "\n",
    "from sklearn.linear_model import SGDRegressor\n",
    "\n",
    "from sklearn.model_selection import GridSearchCV\n",
    "\n",
    "<br />\n",
    "\n",
    "from yellowbrick.regressor import ResidualsPlot"
   ]
  },
  {
   "cell_type": "markdown",
   "metadata": {},
   "source": [
    "---\n",
    "\n",
    "## __Import Dataset(s)__"
   ]
  },
  {
   "cell_type": "markdown",
   "metadata": {},
   "source": [
    "X_test = pd.read_csv('../data/file_test.csv')\n",
    "\n",
    "\n",
    "X_train = pd.read_csv('../data/file_train.csv')"
   ]
  },
  {
   "cell_type": "markdown",
   "metadata": {},
   "source": [
    "---\n",
    "\n",
    "## __Overview Dataset(s)__"
   ]
  },
  {
   "cell_type": "markdown",
   "metadata": {},
   "source": [
    "X_train.head()\n",
    "\n",
    "\n",
    "X_test.head()\n",
    "\n",
    "<br />\n",
    "\n",
    "print('Train:', file_train.shape)\n",
    "\n",
    "print('Test:', file_test.shape)"
   ]
  },
  {
   "cell_type": "markdown",
   "metadata": {},
   "source": [
    "---\n",
    "\n",
    "## __Define y_train und y_test__"
   ]
  },
  {
   "cell_type": "markdown",
   "metadata": {},
   "source": [
    "---\n",
    "\n",
    "## __Create Dummy Features if needed__"
   ]
  },
  {
   "cell_type": "markdown",
   "metadata": {},
   "source": [
    "X_train = pd.get_dummies(X_train, drop_first=True)\n",
    "\n",
    "\n",
    "X_test = pd.get_dummies(X_test, drop_first=True)\n",
    "\n",
    "\n",
    "print('X Train:', X_train.shape)\n",
    "\n",
    "\n",
    "print('X Test:', X_test.shape)"
   ]
  },
  {
   "cell_type": "markdown",
   "metadata": {},
   "source": [
    "y_train = file_train['target']\n",
    "\n",
    "y_test = file_test['target']\n",
    "\n",
    "<br />\n",
    "\n",
    "X_train = file_train.drop(['target', 'further_columns_if_needed'], axis = 1)\n",
    "\n",
    "X_test = file_test.drop(['target', 'further_columns_if_needed'], axis = 1)\n",
    "\n",
    "<br />\n",
    "\n",
    "print('y Train:', y_train.shape)\n",
    "\n",
    "print('y Test:', y_test.shape)\n",
    "\n",
    "print('X Train:', X_train.shape)\n",
    "\n",
    "print('X Test:', X_test.shape)"
   ]
  },
  {
   "cell_type": "markdown",
   "metadata": {},
   "source": [
    "---\n",
    "\n",
    "## __Scaling with Standard Scaler__"
   ]
  },
  {
   "cell_type": "markdown",
   "metadata": {},
   "source": [
    "scaler = StandardScaler()\n",
    "\n",
    "X_train_met_scaled = scaler.fit_transform(X_train_met)\n",
    "\n",
    "X_test_met_scaled = scaler.transform(X_test_met)"
   ]
  },
  {
   "cell_type": "markdown",
   "metadata": {},
   "source": [
    "---\n",
    "\n",
    "## __Train the Model__"
   ]
  },
  {
   "cell_type": "markdown",
   "metadata": {},
   "source": [
    "#### Train the unlog model\n",
    "\n",
    "sgd = SGDRegressor(alpha=0.1, learning_rate='adaptive', penalty='elasticnet')\n",
    "\n",
    "sgd.fit(X_train_met_scaled, y_train)"
   ]
  },
  {
   "cell_type": "markdown",
   "metadata": {},
   "source": [
    "#### Train model log\n",
    "\n",
    "sgd_log = SGDRegressor(alpha=0.1, learning_rate='adaptive', penalty='elasticnet')\n",
    "\n",
    "sgd_log.fit(X_train_met_scaled, y_train_log)"
   ]
  },
  {
   "cell_type": "markdown",
   "metadata": {},
   "source": [
    "---\n",
    "\n",
    "## __Predictions__"
   ]
  },
  {
   "cell_type": "markdown",
   "metadata": {},
   "source": [
    "#### Predict on test and train set\n",
    "y_pred_train_sgd = sgd.predict(X_train_met_scaled)\n",
    "\n",
    "y_pred_test_sgd = sgd.predict(X_test_met_scaled)\n",
    "\n",
    "<br />\n",
    "\n",
    "print('RMSE Train:', sqrt(mean_squared_error(y_train, y_pred_train_sgd)))\n",
    "\n",
    "print('RMSE Test:', sqrt(mean_squared_error(y_test, y_pred_test_sgd)))"
   ]
  },
  {
   "cell_type": "markdown",
   "metadata": {},
   "source": [
    "#### Predict on test and train set log\n",
    "y_pred_train_sgd_log = sgd_log.predict(X_train_met_scaled)\n",
    "\n",
    "y_pred_test_sgd_log = sgd_log.predict(X_test_met_scaled)\n",
    "\n",
    "<br />\n",
    "\n",
    "print('RMSE Train:', sqrt(mean_squared_error(y_train, y_pred_train_sgd)))\n",
    "\n",
    "print('RMSE Test:', sqrt(mean_squared_error(y_test, y_pred_test_sgd)))"
   ]
  },
  {
   "cell_type": "markdown",
   "metadata": {},
   "source": [
    "---\n",
    "---\n",
    "\n",
    "# __Error Analysis / Residuals Plots__"
   ]
  },
  {
   "cell_type": "markdown",
   "metadata": {},
   "source": [
    "---\n",
    "\n",
    "## __Residuals Plot with scaled, unlog data__"
   ]
  },
  {
   "cell_type": "markdown",
   "metadata": {},
   "source": [
    "visualizer = ResidualsPlot(sgd)\n",
    "\n",
    "#### Fit the training data to the visualizer\n",
    "visualizer.fit(X_train_met_scaled, y_train)  \n",
    "\n",
    "#### Evaluate the model on the test data\n",
    "visualizer.score(X_test_met_scaled, y_test)  \n",
    "\n",
    "\n",
    "visualizer.show()"
   ]
  },
  {
   "cell_type": "markdown",
   "metadata": {},
   "source": [
    "---\n",
    "\n",
    "## __Residuals Plot with scaled, log transformed data__"
   ]
  },
  {
   "cell_type": "markdown",
   "metadata": {},
   "source": [
    "visualizer = ResidualsPlot(sgd_log)\n",
    "\n",
    "#### Fit the training data to the visualizer\n",
    "visualizer.fit(X_train_met_scaled, y_train_log)  \n",
    "\n",
    "#### Evaluate the model on the test data\n",
    "visualizer.score(X_test_met_scaled, y_test_log)  \n",
    "visualizer.show()"
   ]
  },
  {
   "cell_type": "markdown",
   "metadata": {},
   "source": [
    "---\n",
    "---\n",
    "\n",
    "# __GridSearch__"
   ]
  },
  {
   "cell_type": "markdown",
   "metadata": {},
   "source": [
    "---\n",
    "\n",
    "## __Prepare GridSearch__"
   ]
  },
  {
   "cell_type": "markdown",
   "metadata": {},
   "source": [
    "#### Defining parameter grid (as dictionary)\n",
    "param_grid = {'n_neighbors':[5,10],\n",
    "              'weights':['uniform'],\n",
    "              'p':[1,2,3],\n",
    "              'leaf_size':[20,40]\n",
    "             }\n",
    "\n",
    "#### Instantiate gridsearch and define the metric to optimize \n",
    "gs_KNN_log = GridSearchCV(KNeighborsRegressor(), param_grid, scoring='neg_root_mean_squared_error',cv=5, verbose=2, n_jobs=-1)\n",
    "\n",
    "#### Fit gridsearch object to data.. also lets see how long it takes\n",
    "gs_KNN_log.fit(X_train_met_scaled_min_max, y_train_log)"
   ]
  },
  {
   "cell_type": "markdown",
   "metadata": {},
   "source": [
    "#### Best Score and Parameters\n",
    "\n",
    "print('Best score:', round(gs_KNN_log.best_score_, 3))\n",
    "\n",
    "print('Best parameters:', gs_KNN_log.best_params_)"
   ]
  },
  {
   "cell_type": "markdown",
   "metadata": {},
   "source": [
    "---\n",
    "\n",
    "## __Predictions__"
   ]
  },
  {
   "cell_type": "markdown",
   "metadata": {},
   "source": [
    "y_pred_train_gs_knn_log = gs_KNN_log.predict(X_train_met_scaled_min_max)\n",
    "\n",
    "y_pred_test_gs_knn_log = gs_KNN_log.predict(X_test_met_scaled_min_max)"
   ]
  },
  {
   "cell_type": "markdown",
   "metadata": {},
   "source": [
    "print('RMSE Train log:', sqrt(mean_squared_error(y_train_log, y_pred_train_gs_knn_log)))\n",
    "\n",
    "print('RMSE Test log:', sqrt(mean_squared_error(y_test_log, y_pred_test_gs_knn_log)))"
   ]
  }
 ],
 "metadata": {
  "language_info": {
   "name": "python"
  },
  "orig_nbformat": 4
 },
 "nbformat": 4,
 "nbformat_minor": 2
}
