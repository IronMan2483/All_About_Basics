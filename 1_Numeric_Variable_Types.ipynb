{
 "cells": [
  {
   "cell_type": "markdown",
   "source": [
    "# Variable Types and Numeric Operators\n",
    "\n",
    "Welcome back to the first Python notebook you will go through during the bootcamp. We hope you have all had a look at the notebooks we shared with you before the course. In the following notebooks we will go through all the topics you have already seen in the preparation notebooks to refresh your knowledge. For those of you who have worked with Python before and are comfortable with programming, it might be easy. For some, it may only be the second time they've heard of most of the topics and some of the exercises might already be challenging. That's fine! No one becomes a true Pythonista overnight. To become good at programming, you need one thing above all: **practice**! And that's why today we will start by reviewing the basics. For some topics, we will dive deeper and expand your knowledge from the preparation notebooks. \n",
    "\n",
    "But enough said, let's start by strengthening your Python knowledge! "
   ],
   "metadata": {}
  },
  {
   "cell_type": "markdown",
   "source": [
    "## Objectives\n",
    "\n",
    "In this notebook we will refresh our knowledge about:\n",
    "\n",
    "- how to do simple math with Python\n",
    "- different data types\n",
    "- variables "
   ],
   "metadata": {}
  },
  {
   "cell_type": "markdown",
   "source": [
    "## Numeric Operations\n",
    "\n",
    "At its base level, Python is really just an awesome calculator!\n",
    "\n",
    "All of the operations that you think should be available are available. Addition, subtraction, multiplication, division and exponentiation are all accessible via `+` , `-` , `*` , `/` and `**` , respectively. As in maths, you can also change the order of the operations using parenthesis `()`. "
   ],
   "metadata": {}
  },
  {
   "cell_type": "code",
   "execution_count": 1,
   "source": [
    "32 + 23"
   ],
   "outputs": [
    {
     "output_type": "execute_result",
     "data": {
      "text/plain": [
       "55"
      ]
     },
     "metadata": {},
     "execution_count": 1
    }
   ],
   "metadata": {
    "ExecuteTime": {
     "end_time": "2020-06-30T11:34:51.429214Z",
     "start_time": "2020-06-30T11:34:51.418682Z"
    }
   }
  },
  {
   "cell_type": "code",
   "execution_count": 2,
   "source": [
    "19 - 21"
   ],
   "outputs": [
    {
     "output_type": "execute_result",
     "data": {
      "text/plain": [
       "-2"
      ]
     },
     "metadata": {},
     "execution_count": 2
    }
   ],
   "metadata": {
    "ExecuteTime": {
     "end_time": "2020-06-30T11:34:51.456179Z",
     "start_time": "2020-06-30T11:34:51.436541Z"
    }
   }
  },
  {
   "cell_type": "code",
   "execution_count": 3,
   "source": [
    "11 * 11"
   ],
   "outputs": [
    {
     "output_type": "execute_result",
     "data": {
      "text/plain": [
       "121"
      ]
     },
     "metadata": {},
     "execution_count": 3
    }
   ],
   "metadata": {
    "ExecuteTime": {
     "end_time": "2020-06-30T11:34:51.503183Z",
     "start_time": "2020-06-30T11:34:51.463300Z"
    }
   }
  },
  {
   "cell_type": "code",
   "execution_count": 4,
   "source": [
    "12 / 32"
   ],
   "outputs": [
    {
     "output_type": "execute_result",
     "data": {
      "text/plain": [
       "0.375"
      ]
     },
     "metadata": {},
     "execution_count": 4
    }
   ],
   "metadata": {
    "ExecuteTime": {
     "end_time": "2020-06-30T11:34:51.554866Z",
     "start_time": "2020-06-30T11:34:51.510152Z"
    }
   }
  },
  {
   "cell_type": "code",
   "execution_count": 9,
   "source": [
    "# three to the power of 2\n",
    "3 ** 2"
   ],
   "outputs": [
    {
     "output_type": "execute_result",
     "data": {
      "text/plain": [
       "9"
      ]
     },
     "metadata": {},
     "execution_count": 9
    }
   ],
   "metadata": {
    "ExecuteTime": {
     "end_time": "2020-06-30T11:34:51.565917Z",
     "start_time": "2020-06-30T11:34:51.558759Z"
    }
   }
  },
  {
   "cell_type": "code",
   "execution_count": 10,
   "source": [
    "# multiplication before summation as in normal math rules\n",
    "4 + 6 * 5"
   ],
   "outputs": [
    {
     "output_type": "execute_result",
     "data": {
      "text/plain": [
       "34"
      ]
     },
     "metadata": {},
     "execution_count": 10
    }
   ],
   "metadata": {}
  },
  {
   "cell_type": "code",
   "execution_count": 11,
   "source": [
    "# brackets do function as well\n",
    "(4 + 6) * 5"
   ],
   "outputs": [
    {
     "output_type": "execute_result",
     "data": {
      "text/plain": [
       "50"
      ]
     },
     "metadata": {},
     "execution_count": 11
    }
   ],
   "metadata": {}
  },
  {
   "cell_type": "markdown",
   "source": [
    "\n",
    "But Python has even more to offer. Besides those simple operators you can also find on any calculator, Python has two more arithmetic operators which might be new to you: `//` and `%`.\n",
    "\n",
    "The double slash `//` is called floor division. All it does is perform division and truncate the result."
   ],
   "metadata": {}
  },
  {
   "cell_type": "code",
   "execution_count": 14,
   "source": [
    "# Floor division = rounded to the next lower values, no comma places  \n",
    "34 // 4"
   ],
   "outputs": [
    {
     "output_type": "execute_result",
     "data": {
      "text/plain": [
       "8"
      ]
     },
     "metadata": {},
     "execution_count": 14
    }
   ],
   "metadata": {}
  },
  {
   "cell_type": "markdown",
   "source": [
    "The other operator is the modular division operator, `%` (also called modulo). This operation is the sibling to `//`. Whereas `//` returns the truncated result of a division, `%` returns the remainder of integer division."
   ],
   "metadata": {}
  },
  {
   "cell_type": "code",
   "execution_count": 15,
   "source": [
    "# Modulo\n",
    "# Return the integer rest of a division\n",
    "34 % 4"
   ],
   "outputs": [
    {
     "output_type": "execute_result",
     "data": {
      "text/plain": [
       "2"
      ]
     },
     "metadata": {},
     "execution_count": 15
    }
   ],
   "metadata": {}
  },
  {
   "cell_type": "markdown",
   "source": [
    "During your daily work as a Data Scientist you will need a variety of different mathematical operations. For some of them you can use built-in functions. \n",
    "\n",
    "`abs()`, `min()`, `max()` and `round()` are helpful little functions to know when you start working with data. As their names already imply `abs()` will return the absolut value of a number, `min()` and `max()` will return the minimum respectively maximum of a bunch of numbers and `round()` will round a number to a given amount of decimals."
   ],
   "metadata": {}
  },
  {
   "cell_type": "code",
   "execution_count": 16,
   "source": [
    "abs(2.14)"
   ],
   "outputs": [
    {
     "output_type": "execute_result",
     "data": {
      "text/plain": [
       "2.14"
      ]
     },
     "metadata": {},
     "execution_count": 16
    }
   ],
   "metadata": {}
  },
  {
   "cell_type": "code",
   "execution_count": 17,
   "source": [
    "abs(-2.14)"
   ],
   "outputs": [
    {
     "output_type": "execute_result",
     "data": {
      "text/plain": [
       "2.14"
      ]
     },
     "metadata": {},
     "execution_count": 17
    }
   ],
   "metadata": {}
  },
  {
   "cell_type": "code",
   "execution_count": 18,
   "source": [
    "min(14, 21, 32, 11, 44, 23)"
   ],
   "outputs": [
    {
     "output_type": "execute_result",
     "data": {
      "text/plain": [
       "11"
      ]
     },
     "metadata": {},
     "execution_count": 18
    }
   ],
   "metadata": {}
  },
  {
   "cell_type": "code",
   "execution_count": 19,
   "source": [
    "max(14, 21, 32, 11, 44, 23)"
   ],
   "outputs": [
    {
     "output_type": "execute_result",
     "data": {
      "text/plain": [
       "44"
      ]
     },
     "metadata": {},
     "execution_count": 19
    }
   ],
   "metadata": {}
  },
  {
   "cell_type": "code",
   "execution_count": 20,
   "source": [
    "round(3.14159265359, 3)"
   ],
   "outputs": [
    {
     "output_type": "execute_result",
     "data": {
      "text/plain": [
       "3.142"
      ]
     },
     "metadata": {},
     "execution_count": 20
    }
   ],
   "metadata": {}
  },
  {
   "cell_type": "markdown",
   "source": [
    "## Variables\n",
    "\n",
    "One of the most powerful constructs in programming is the ability to store arbitrary values in what we call variables. You can think of variable assignment as giving a name to something so that it can be accessed later by different parts of your program.\n",
    "\n",
    "As you may remember, variable assignment in Python occurs with the `=` operator. To assign a value to a variable name (i.e. declare it), you simply put the variable name on the left side of the `=` and the value you want to associate with that variable name on the right side. Once this has happened, you can access the value in the variable by using it's name somewhere later in your code or notebook."
   ],
   "metadata": {}
  },
  {
   "cell_type": "markdown",
   "source": [
    "Remember to not name your variables as one of the python keywords! You find yourself a list with:"
   ],
   "metadata": {}
  },
  {
   "cell_type": "code",
   "execution_count": 32,
   "source": [
    "import keyword\n",
    "print(keyword.kwlist)"
   ],
   "outputs": [
    {
     "output_type": "stream",
     "name": "stdout",
     "text": [
      "['False', 'None', 'True', '__peg_parser__', 'and', 'as', 'assert', 'async', 'await', 'break', 'class', 'continue', 'def', 'del', 'elif', 'else', 'except', 'finally', 'for', 'from', 'global', 'if', 'import', 'in', 'is', 'lambda', 'nonlocal', 'not', 'or', 'pass', 'raise', 'return', 'try', 'while', 'with', 'yield']\n"
     ]
    }
   ],
   "metadata": {}
  },
  {
   "cell_type": "code",
   "execution_count": 21,
   "source": [
    "a = 8\n",
    "b = \"Hello\""
   ],
   "outputs": [],
   "metadata": {
    "ExecuteTime": {
     "end_time": "2020-06-30T11:34:51.694614Z",
     "start_time": "2020-06-30T11:34:51.686456Z"
    }
   }
  },
  {
   "cell_type": "code",
   "execution_count": 22,
   "source": [
    "b"
   ],
   "outputs": [
    {
     "output_type": "execute_result",
     "data": {
      "text/plain": [
       "'Hello'"
      ]
     },
     "metadata": {},
     "execution_count": 22
    }
   ],
   "metadata": {
    "ExecuteTime": {
     "end_time": "2020-06-30T11:34:51.711513Z",
     "start_time": "2020-06-30T11:34:51.703416Z"
    }
   }
  },
  {
   "cell_type": "code",
   "execution_count": 23,
   "source": [
    "a - 4"
   ],
   "outputs": [
    {
     "output_type": "execute_result",
     "data": {
      "text/plain": [
       "4"
      ]
     },
     "metadata": {},
     "execution_count": 23
    }
   ],
   "metadata": {
    "ExecuteTime": {
     "end_time": "2020-06-30T11:34:51.723777Z",
     "start_time": "2020-06-30T11:34:51.714309Z"
    }
   }
  },
  {
   "cell_type": "code",
   "execution_count": 24,
   "source": [
    "# even strings can be multiplied when you have integers, floats will not possible\n",
    "a * b"
   ],
   "outputs": [
    {
     "output_type": "execute_result",
     "data": {
      "text/plain": [
       "'HelloHelloHelloHelloHelloHelloHelloHello'"
      ]
     },
     "metadata": {},
     "execution_count": 24
    }
   ],
   "metadata": {
    "ExecuteTime": {
     "end_time": "2020-06-30T11:34:51.736043Z",
     "start_time": "2020-06-30T11:34:51.726241Z"
    }
   }
  },
  {
   "cell_type": "code",
   "execution_count": 25,
   "source": [
    "d = 3.4895723895645"
   ],
   "outputs": [],
   "metadata": {}
  },
  {
   "cell_type": "code",
   "execution_count": 27,
   "source": [
    "# integers will be rounded down to the next lower integer\n",
    "b * int(d)"
   ],
   "outputs": [
    {
     "output_type": "execute_result",
     "data": {
      "text/plain": [
       "'HelloHelloHello'"
      ]
     },
     "metadata": {},
     "execution_count": 27
    }
   ],
   "metadata": {}
  },
  {
   "cell_type": "markdown",
   "source": [
    "The name you can give a variable can technically be any contiguous set of characters, but there are some conventions followed in Python and programming in general. Python follows a variable naming convention called snake case, which uses underscores `_` instead of spaces and only lower case letters (e.g. `my_first_variable`). Although `my_first_variable` would be in snake_case it is not a good variable name. In order to make your code more readable and maintainable you should always give your variables well-defined, succinct names. Calling something `height` is a lot more meaningful than only calling it `x`. \n",
    "\n",
    "There are of course cases where using less than descriptive variable names follows convention and are, therefore, just fine to use. A common example is the use of `i` to keep track of an index. Because of its prevalent usage for indexing, it is usually easy to understand what is happening in that context when all you see is the varible name `i`.\n",
    "\n",
    "In the cells above `a = 8` or `b = \"Hello\"` did not generate an output. This is because the return value that would have been printed as output was assigned to the variables `a` and `b`. To view the content of the variables we had to call them in the next lines.\n",
    "\n",
    "A large part of variables' power is the fact that they can change. This allows us to use a single variable name to keep track of a specific thing throughout the life of a program. \n",
    "Remember how we assigned the value `8` to `a` above? The exact same syntax can be used to change the value stored in the variable.\n",
    "Let's say we want to increase the value of a by 5:"
   ],
   "metadata": {}
  },
  {
   "cell_type": "code",
   "execution_count": 28,
   "source": [
    "a = a + 5\n",
    "a"
   ],
   "outputs": [
    {
     "output_type": "execute_result",
     "data": {
      "text/plain": [
       "13"
      ]
     },
     "metadata": {},
     "execution_count": 28
    }
   ],
   "metadata": {
    "ExecuteTime": {
     "end_time": "2020-06-30T11:34:51.753269Z",
     "start_time": "2020-06-30T11:34:51.738671Z"
    }
   }
  },
  {
   "cell_type": "markdown",
   "source": [
    "Notice how the first line above is formatted. Python knows that the `=` means variable assignment, so when it sees the first line it evaluates the right side of the equals and then puts that value in `a`, even though `a` is part of the calculation on the right side. `a` is now connected with this new value and the old value is gone.\n",
    "\n",
    "Changing variables in this way occurs so commonly that there is built-in shorthand for it. The result of the first line could have been achieved with `a += 5`. This *syntactic sugar* is available for all the simple operations `+`, `-`, `*`, `/`, `**`, and `%` that we covered earlier."
   ],
   "metadata": {}
  },
  {
   "cell_type": "markdown",
   "source": [
    "## Types\n",
    "\n",
    "Data type is an important concept in programming. Variables can store data in different types and different types can do different things.\n",
    "\n",
    "Do you remember the adage: \"If it walks like a duck, and quacks like a duck, then it must be a duck\". Python is a duck typed language, which means that Python will determine what it thinks is the best type to call a variable when you use it, unless explicitly told otherwise."
   ],
   "metadata": {}
  },
  {
   "cell_type": "markdown",
   "source": [
    "### Numeric Variable Types\n",
    "\n",
    "Let's review some basic numeric variable types in Python, which all represent numbers in some way.\n",
    "The most important ones are `ints`, short for integers, `floats`, short for floating point/decimal numbers, and `complex`, which contain real and imaginary parts stored as floats.\n",
    "\n",
    "To inspect what type Python thinks a variable (or number...) is, you can use the `type()` function. This will be especially useful when you run into an error and will have to debug your code. "
   ],
   "metadata": {}
  },
  {
   "cell_type": "code",
   "execution_count": null,
   "source": [
    "14 # Int"
   ],
   "outputs": [],
   "metadata": {
    "ExecuteTime": {
     "end_time": "2020-06-30T11:34:51.223748Z",
     "start_time": "2020-06-30T11:34:51.176601Z"
    },
    "scrolled": true
   }
  },
  {
   "cell_type": "code",
   "execution_count": null,
   "source": [
    "32.2 # Float"
   ],
   "outputs": [],
   "metadata": {
    "ExecuteTime": {
     "end_time": "2020-06-30T11:34:51.302631Z",
     "start_time": "2020-06-30T11:34:51.281655Z"
    },
    "scrolled": true
   }
  },
  {
   "cell_type": "code",
   "execution_count": null,
   "source": [
    "complex(5, 6) # complex"
   ],
   "outputs": [],
   "metadata": {
    "ExecuteTime": {
     "end_time": "2020-06-30T11:34:51.353655Z",
     "start_time": "2020-06-30T11:34:51.313466Z"
    }
   }
  },
  {
   "cell_type": "code",
   "execution_count": 29,
   "source": [
    "type(14)"
   ],
   "outputs": [
    {
     "output_type": "execute_result",
     "data": {
      "text/plain": [
       "int"
      ]
     },
     "metadata": {},
     "execution_count": 29
    }
   ],
   "metadata": {
    "ExecuteTime": {
     "end_time": "2020-06-30T11:34:51.379983Z",
     "start_time": "2020-06-30T11:34:51.361564Z"
    }
   }
  },
  {
   "cell_type": "code",
   "execution_count": 30,
   "source": [
    "type(82.6)"
   ],
   "outputs": [
    {
     "output_type": "execute_result",
     "data": {
      "text/plain": [
       "float"
      ]
     },
     "metadata": {},
     "execution_count": 30
    }
   ],
   "metadata": {
    "ExecuteTime": {
     "end_time": "2020-06-30T11:34:51.396272Z",
     "start_time": "2020-06-30T11:34:51.385142Z"
    }
   }
  },
  {
   "cell_type": "code",
   "execution_count": 31,
   "source": [
    "type(complex(5, 6))"
   ],
   "outputs": [
    {
     "output_type": "execute_result",
     "data": {
      "text/plain": [
       "complex"
      ]
     },
     "metadata": {},
     "execution_count": 31
    }
   ],
   "metadata": {
    "ExecuteTime": {
     "end_time": "2020-06-30T11:34:51.410079Z",
     "start_time": "2020-06-30T11:34:51.399690Z"
    }
   }
  },
  {
   "cell_type": "markdown",
   "source": [
    "As you can see, Python assumes that a number with no decimal point is an `int`, those with a decimal point a `float`, and (surprise!) those from the `complex()` constructor as `complex`.\n",
    "\n",
    "Frequently, these subtle differences wont matter too much. However, there will be times when this implementation detail will make you think that something will work, when really it won't. Knowing how to check the type of something will help you solve any of these potential problems."
   ],
   "metadata": {}
  },
  {
   "cell_type": "markdown",
   "source": [
    "### String\n",
    "\n",
    "We have mentioned strings (`str` for short) only very briefly in the preparation notebooks and will not go into it here.\n",
    "Since string manipulation and formatting is a big topic, we will devote a whole notebook to it. "
   ],
   "metadata": {}
  },
  {
   "cell_type": "markdown",
   "source": [
    "### Bool\n",
    "\n",
    "Python has a special data type called `bool`, which can only have two values: `True` or `False`.\n",
    "We will refresh our knowledge of boolean values when we come to the if-then statements.\n",
    "\n",
    " * Bool can even be added to True + True = True or 1 + 1 = 1\n",
    " * False + False = False or 0 + 0 = 0"
   ],
   "metadata": {}
  },
  {
   "cell_type": "markdown",
   "source": [
    "### Further Data Types\n",
    "\n",
    "There are several other built-in data types in Python. We will cover `lists`, `dictionaries`, `sets`, `tuples` and `range` in later notebooks more in detail. "
   ],
   "metadata": {}
  },
  {
   "cell_type": "markdown",
   "source": [
    "## Check your understanding! "
   ],
   "metadata": {}
  },
  {
   "cell_type": "markdown",
   "source": [
    "**Part 1**\n",
    "\n",
    "What do you think the results of the following computations will be?\n",
    "1. `19.0 - 11` \n",
    "2. `12 * 0.25` \n",
    "3. `12 ** 2`\n",
    "4. `25 // 6`\n",
    "5. `(12 + 8) / 7`\n",
    "6. `(21 / 3) % 2`"
   ],
   "metadata": {}
  },
  {
   "cell_type": "code",
   "execution_count": 35,
   "source": [
    "# Test\n",
    "print(19.0 - 11) \n",
    "print(12 * 0.22)\n",
    "print(12 ** 2)\n",
    "print(25 // 6)\n",
    "print((12 + 8) / 7)\n",
    "print((21 / 3) % 2)"
   ],
   "outputs": [
    {
     "output_type": "stream",
     "name": "stdout",
     "text": [
      "8.0\n",
      "2.64\n",
      "144\n",
      "4\n",
      "2.857142857142857\n",
      "1.0\n"
     ]
    }
   ],
   "metadata": {}
  },
  {
   "cell_type": "code",
   "execution_count": 8,
   "source": [
    "print(f'{19.0 - 11}\\n{12 * 0.22}')"
   ],
   "outputs": [
    {
     "output_type": "stream",
     "name": "stdout",
     "text": [
      "8.0\n",
      "2.64\n"
     ]
    }
   ],
   "metadata": {}
  },
  {
   "cell_type": "markdown",
   "source": [
    "**Part 2**\n",
    "\n",
    "Consider the following code:\n",
    "\n",
    "```\n",
    "x = 82\n",
    "y = 30\n",
    "x += y\n",
    "y = x - 3\n",
    "x -= y - 5\n",
    "```\n",
    "\n",
    "What are the values of x and y after each line?"
   ],
   "metadata": {}
  },
  {
   "cell_type": "code",
   "execution_count": 44,
   "source": [
    "# Test 2\n",
    "x = 82\n",
    "print(x)\n",
    "y = 30\n",
    "print(y)\n",
    "x += y\n",
    "print(x)\n",
    "y = x - 3\n",
    "print(y)\n",
    "x -= y - 5\n",
    "print(x)"
   ],
   "outputs": [
    {
     "output_type": "stream",
     "name": "stdout",
     "text": [
      "82\n",
      "30\n",
      "112\n",
      "109\n",
      "8\n"
     ]
    }
   ],
   "metadata": {}
  },
  {
   "cell_type": "markdown",
   "source": [
    "```\n",
    "The last line is completely weird something like this should happen here plus there must be a minus-minus type of addition in order\n",
    " to get to 8 an not -2 in the end. \n",
    " x = x - y - 5\n",
    "    112 - 109 - 5\n",
    "```"
   ],
   "metadata": {}
  },
  {
   "cell_type": "markdown",
   "source": [
    "**Part 3**\n",
    "\n",
    "What are the types of the following numerics?\n",
    "1. `10`\n",
    "2. `100.32`\n",
    "3. `complex(-5, -10.2)`"
   ],
   "metadata": {}
  },
  {
   "cell_type": "markdown",
   "source": [
    "**Part 4**\n",
    "\n",
    "Person1 is 21 years old, Person2 is 43 years old and Person3 is 19 years old. Define variables for the ages, calculate the mean with them and save the resulte in another variable. Check which type the result has. Can you round the result to 2 decimals?"
   ],
   "metadata": {}
  },
  {
   "cell_type": "code",
   "execution_count": 5,
   "source": [
    "import numpy as np\n",
    "age = [21, 43, 19]\n",
    "mean = np.mean(age)\n",
    "print(mean)\n",
    "type(mean)\n",
    "mean_r = round(mean, 2)\n",
    "print(mean_r)"
   ],
   "outputs": [
    {
     "output_type": "stream",
     "name": "stdout",
     "text": [
      "27.666666666666668\n",
      "27.67\n"
     ]
    }
   ],
   "metadata": {}
  }
 ],
 "metadata": {
  "kernelspec": {
   "name": "python3",
   "display_name": "Python 3.9.4 64-bit ('.venv': venv)"
  },
  "language_info": {
   "codemirror_mode": {
    "name": "ipython",
    "version": 3
   },
   "file_extension": ".py",
   "mimetype": "text/x-python",
   "name": "python",
   "nbconvert_exporter": "python",
   "pygments_lexer": "ipython3",
   "version": "3.9.4"
  },
  "toc": {
   "base_numbering": 1,
   "nav_menu": {},
   "number_sections": true,
   "sideBar": true,
   "skip_h1_title": false,
   "title_cell": "Table of Contents",
   "title_sidebar": "Contents",
   "toc_cell": false,
   "toc_position": {},
   "toc_section_display": true,
   "toc_window_display": false
  },
  "varInspector": {
   "cols": {
    "lenName": 16,
    "lenType": 16,
    "lenVar": 40
   },
   "kernels_config": {
    "python": {
     "delete_cmd_postfix": "",
     "delete_cmd_prefix": "del ",
     "library": "var_list.py",
     "varRefreshCmd": "print(var_dic_list())"
    },
    "r": {
     "delete_cmd_postfix": ") ",
     "delete_cmd_prefix": "rm(",
     "library": "var_list.r",
     "varRefreshCmd": "cat(var_dic_list()) "
    }
   },
   "types_to_exclude": [
    "module",
    "function",
    "builtin_function_or_method",
    "instance",
    "_Feature"
   ],
   "window_display": false
  },
  "interpreter": {
   "hash": "c9d27ae3a8827d0cd47171f24946f8cf80ee80ff4aa9707ffe1528ffaaf7bb6c"
  }
 },
 "nbformat": 4,
 "nbformat_minor": 4
}