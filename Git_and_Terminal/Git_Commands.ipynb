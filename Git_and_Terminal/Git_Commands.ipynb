{
 "cells": [
  {
   "cell_type": "markdown",
   "metadata": {},
   "source": [
    "# __Commands in Git and Terminal__"
   ]
  },
  {
   "cell_type": "markdown",
   "metadata": {},
   "source": [
    "## __TERMINAL__"
   ]
  },
  {
   "cell_type": "markdown",
   "metadata": {},
   "source": [
    "## __Typical commands__"
   ]
  },
  {
   "cell_type": "markdown",
   "metadata": {},
   "source": [
    "#### cd foldername \n",
    "* get into the folder you want to work in, can be a repo or a folder in a repo\n",
    "\n",
    "#### ls \n",
    "* see the files (and folders) in the folder you are in"
   ]
  },
  {
   "cell_type": "markdown",
   "metadata": {},
   "source": [
    "#### Get into your virtual environment\n",
    "* also needed when you want to create or edit file(s) in VSC, otherwise you cannot select the Kernel\n",
    "\n",
    "    __pyenv local 3.9.4__\n",
    "\n",
    "    __python -m venv .venv__\n",
    "\n",
    "    __source .venv/bin/activate__\n",
    "\n",
    "    __pip install --upgrade pip__"
   ]
  },
  {
   "cell_type": "markdown",
   "metadata": {},
   "source": [
    "#### git status\n",
    "\n",
    "always a good idea, here you can see if you modified or created file, different stati (untracked, tracked, staged, unstaged)\n",
    "\n",
    "\n",
    "* __Git status__ \"Changes not staged for commit: here in red --> _file.xxx_ is modified\"\n",
    "\n",
    "* __Git commit -m \"your new comment\"__ (this comment is visible on Git behind your file name!)\n",
    "        \"Changes not staged for commit: modified: file.xxx\"\n",
    "\n",
    "* __Git status__ \"changes not staged for commit: modified: _file.xxx_\"\n",
    "\n",
    "* __Git add__ _file.xxx_ (your file is staged but not committed)\n",
    "\n",
    "* __Git restore --staged__ _file.xxx_ (your file is unstaged now)\n",
    "\n",
    "* __Git add__ _file.xxx_ (tracked file)\n",
    "\n",
    "* __Git rm --cached__ _file.xxx_ (untracked file)\n",
    "\n",
    "* __Git rm__ _file.xxx_ (removes your file, you can do it when you don't want this file but it is on Git and you deleted it in your folder on your Mac)"
   ]
  },
  {
   "cell_type": "markdown",
   "metadata": {},
   "source": [
    "---\n",
    "\n",
    "## __Working steps__"
   ]
  },
  {
   "cell_type": "markdown",
   "metadata": {},
   "source": [
    "---\n",
    "\n",
    "### __Start in Git with a new repo and then switch to Terminal: Work with Git Clone__"
   ]
  },
  {
   "cell_type": "markdown",
   "metadata": {},
   "source": [
    "* Copy the SSH code from your repo or the one you forked in GitHub \n",
    "* Paste it into your Terminal with __git clone git@github.com:yourprofilename/yournewrepo.git__\n",
    "* Create a new switch to a branch locally: __git switch -c <new_branch>__\n",
    "* Get into your .venv (see above)\n",
    "* Install packages if needed - e.g. for Plotly (see [commands folder](https://github.com/IronMan2483/All_About_Basics/blob/main/Commands/Commands_Import.md))\n",
    "* Open VSC with __code .__ or Jupyter Notebook with __Jupyter Lab__ to work on the files"
   ]
  },
  {
   "cell_type": "markdown",
   "metadata": {},
   "source": [
    "---\n",
    "\n",
    "### __Save your work - Step 1 in Terminal__"
   ]
  },
  {
   "cell_type": "markdown",
   "metadata": {},
   "source": [
    "* __git status__ what has changed?\n",
    "* __git add__ _file.xxx_ or _*.ipynb_ or _folder/_\n",
    "* __git commit -m \"comment\"__\n",
    "\n",
    "<br />\n",
    "\n",
    "* __git switch -c newbranch__ \n",
    "\n",
    "    * if you are still in main you need to switch before you can push\n",
    "    * if you are already in the new branch you can push from here\n",
    "    \n",
    "<br />\n",
    "\n",
    "* __git push__\n",
    "    * if you have done it right you should see an push stream link you need to c&p in your next line"
   ]
  },
  {
   "cell_type": "markdown",
   "metadata": {},
   "source": [
    "---\n",
    "\n",
    "## __GIT__"
   ]
  },
  {
   "cell_type": "markdown",
   "metadata": {},
   "source": [
    "### __Save your work - Step 2 in Git__"
   ]
  },
  {
   "cell_type": "markdown",
   "metadata": {},
   "source": [
    "* Go to your Git repo on Git\n",
    "* If you have done everything right you will see a yellow block with your branch name you pushed from and that this is a pull request"
   ]
  },
  {
   "cell_type": "markdown",
   "metadata": {},
   "source": [
    "#### GOOD PUSH"
   ]
  },
  {
   "cell_type": "markdown",
   "metadata": {},
   "source": [
    "* Go to the Pull Request\n",
    "* Go to files changed and click on merge (take care that it is the right \"main branch\" in which your branch will merge in!!!)\n",
    "* If you have done everything right before you will see a green button with \"squash and merge\"\n",
    "* Click 2 times on the button\n",
    "* Delete the branch\n",
    "\n",
    "    #### __Yeah!!! You made it!__"
   ]
  },
  {
   "cell_type": "markdown",
   "metadata": {},
   "source": [
    "![Angry Panda](https://github.com/IronMan2483/All_About_Basics/blob/main/Images/Angry_Panda.gif)"
   ]
  },
  {
   "cell_type": "markdown",
   "metadata": {},
   "source": [
    "#### __BAD PUSH or MERGE CONFLICT__"
   ]
  },
  {
   "cell_type": "markdown",
   "metadata": {},
   "source": [
    "* Go to the Pull Request\n",
    "* Go to files changed and click on merge (take care that it is the right \"main branch\" in which your branch will merge in!!!)\n",
    "* __OMG! You have a merge conflict you need to resolve! Don't cry!!!__\n",
    "* Click on the conflict\n",
    "* You will see the file with the conflict and click on the conflicts (you should see text in yellow brackets \"main\" version and \"new branch\" version)\n",
    "* You need to delete the \"old version\" including the lines with the \"main\" version and \"new branch\" version\n",
    "* You should be able to click now on the button \"resolve problem\"\n",
    "* You are now able to merge __YEAH!!!__\n",
    "* You will see now the green button with \"squash and merge\" \n",
    "* Click 2 times on the button\n",
    "* Delete the branch\n",
    "\n",
    "    #### __Yeah!!! You made it!__"
   ]
  },
  {
   "cell_type": "markdown",
   "metadata": {},
   "source": [
    "---\n",
    "\n",
    "## __TERMINAL__"
   ]
  },
  {
   "cell_type": "markdown",
   "metadata": {},
   "source": [
    "### __Save your work - Step 3 in the Terminal__"
   ]
  },
  {
   "cell_type": "markdown",
   "metadata": {},
   "source": [
    "* __git switch main__\n",
    "\n",
    "* __git pull__ your branch is now updated"
   ]
  },
  {
   "cell_type": "markdown",
   "metadata": {},
   "source": [
    "---\n",
    "\n",
    "Check also my protocol in the DS neue fische bootcamp from day 5: [protocol](https://github.com/neuefische/hh-data-21-3-daily-review/blob/main/protocols/protocol_day5.md)"
   ]
  }
 ],
 "metadata": {
  "language_info": {
   "name": "python"
  },
  "orig_nbformat": 4
 },
 "nbformat": 4,
 "nbformat_minor": 2
}
