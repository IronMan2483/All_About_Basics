{
 "cells": [
  {
   "cell_type": "markdown",
   "metadata": {},
   "source": [
    "# __Create Classes for a Plot__"
   ]
  },
  {
   "cell_type": "markdown",
   "metadata": {},
   "source": [
    "range_1_20 = df[\"Column1(1-100)\"][(df[\"Column1(1-100)\"] >= 1) & (df[\"Column1(1-100)\"] <= 20)]\n",
    "\n",
    "range_21_40 = df[\"Column1(1-100)\"][(df[\"Column1(1-100)\"] >= 21) & (df[\"Column1(1-100)\"] <= 40)]\n",
    "\n",
    "range_41_60 = df[\"Column1(1-100)\"][(df[\"Column1(1-100)\"] >= 41) & (df[\"Column1(1-100)\"] <= 60)]\n",
    "\n",
    "range_61_80 = df[\"Column1(1-100)\"][(df[\"Column1(1-100)\"] >= 61) & (df[\"Column1(1-100)\"] <= 80)]\n",
    "\n",
    "range_81_100 = df[\"Column1(1-100)\"][(df[\"Column1(1-100)\"] >= 81) & (df[\"Column1(1-100)\"] <= 100)]\n",
    "\n",
    "<br />\n",
    "\n",
    "range_x = [\"1-20\", \"21-40\", \"41-60\", \"61-80\", \"81-100\"]\n",
    "\n",
    "range_y = [len(range_1_20.values), len(range_21_40.values), len(range_41_60.values), len(range_61_80.values), len(range_81_100.values)]\n",
    "\n",
    "<br />\n",
    "\n",
    "plt.figure(figsize=(15,6))\n",
    "\n",
    "sns.barplot(x=range_x, y=range_y, palette=['grey', 'grey','red','grey','grey'])\n",
    "\n",
    "ax.set_facecolor('#f5f6f6')\n",
    "\n",
    "plt.title(\"title\")\n",
    "\n",
    "plt.xlabel(\"title\")\n",
    "\n",
    "plt.ylabel(\"Number of XX\")\n",
    "\n",
    "plt.show()"
   ]
  }
 ],
 "metadata": {
  "language_info": {
   "name": "python"
  },
  "orig_nbformat": 4
 },
 "nbformat": 4,
 "nbformat_minor": 2
}
