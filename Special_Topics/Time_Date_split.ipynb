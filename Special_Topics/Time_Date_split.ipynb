{
 "cells": [
  {
   "cell_type": "markdown",
   "metadata": {},
   "source": [
    "# __How to split Dates and Times into multiple Features__"
   ]
  },
  {
   "cell_type": "markdown",
   "metadata": {},
   "source": [
    "## __Import Packages/Libraries__"
   ]
  },
  {
   "cell_type": "markdown",
   "metadata": {},
   "source": [
    "import pandas as pd"
   ]
  },
  {
   "cell_type": "markdown",
   "metadata": {},
   "source": [
    "---\n",
    "\n",
    "## __Get a Data Frame__"
   ]
  },
  {
   "cell_type": "markdown",
   "metadata": {},
   "source": [
    "df = pd.DataFrame()"
   ]
  },
  {
   "cell_type": "markdown",
   "metadata": {},
   "source": [
    "---\n",
    "\n",
    "## __Create five dates__"
   ]
  },
  {
   "cell_type": "markdown",
   "metadata": {},
   "source": [
    "df['date'] = pd.date_range('1/1/2021', periods=150, freq='W')"
   ]
  },
  {
   "cell_type": "markdown",
   "metadata": {},
   "source": [
    "---\n",
    "\n",
    "## __Create individual features from dates and times__"
   ]
  },
  {
   "cell_type": "markdown",
   "metadata": {},
   "source": [
    "df['year'] = df['date'].dt.year\n",
    "\n",
    "df['month'] = df['date'].dt.month\n",
    "\n",
    "df['day'] = df['date'].dt.day\n",
    "\n",
    "df['hour'] = df['date'].dt.hour\n",
    "\n",
    "df['minute'] = df['date'].dt.minute"
   ]
  },
  {
   "cell_type": "markdown",
   "metadata": {},
   "source": [
    "---\n",
    "\n",
    "## __See the result__"
   ]
  },
  {
   "cell_type": "markdown",
   "metadata": {},
   "source": [
    "df.head(3)"
   ]
  },
  {
   "cell_type": "markdown",
   "metadata": {},
   "source": [
    "![Table_Date_Time_split](Images/Date_Time_Split.png)"
   ]
  }
 ],
 "metadata": {
  "language_info": {
   "name": "python"
  },
  "orig_nbformat": 4
 },
 "nbformat": 4,
 "nbformat_minor": 2
}
