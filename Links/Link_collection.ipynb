[Power of Pandas and Python](https://itnext.io/the-power-of-pandas-python-253c11b40b88)

---
                             
## __Pandas.pydata.org__
                             
* [main page (in German)](https://pandas.pydata.org/docs/)                             
---

## __Realpython.com__
                             
* [read & write panda files](https://realpython.com/pandas-read-write-files/)
* [Pandas Dataframe](https://realpython.com/courses/pandas-dataframe-working-with-data/)

---

## __Python für Naturwissenschaftler__

* [Graphics](https://gertingold.github.io/pythonnawi/graphics.html)
             
---
             
## __Python Learnen__
             
* [main page (in GER)](https://www.python-lernen.de/)             
