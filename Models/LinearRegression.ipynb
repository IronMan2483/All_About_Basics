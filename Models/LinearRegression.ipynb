{
 "cells": [
  {
   "cell_type": "markdown",
   "id": "54740949-fa1c-4e28-8daa-37e35482cdac",
   "metadata": {},
   "source": [
    "# __Linear Regression__"
   ]
  },
  {
   "cell_type": "markdown",
   "id": "99882559-bc40-4b3c-b010-bc4c26c85f74",
   "metadata": {},
   "source": [
    "## __Import Packages and Tools__"
   ]
  },
  {
   "cell_type": "markdown",
   "id": "be15db14-acc1-4150-a416-3e247e1ec682",
   "metadata": {},
   "source": [
    "import pandas as pd \n",
    "\n",
    "import numpy as np \n",
    "\n",
    "import seaborn as sns\n",
    "\n",
    "import matplotlib.pyplot as plt\n",
    "\n",
    "\n",
    "from sklearn.metrics import mean_squared_error\n",
    "\n",
    "from math import sqrt\n",
    "\n",
    "import statsmodels.api as sm"
   ]
  },
  {
   "cell_type": "markdown",
   "id": "95ba72e0-85da-4ddc-b676-81bf8bc46ef5",
   "metadata": {},
   "source": [
    "---\n",
    "\n",
    "## __Import Dataset(s)__"
   ]
  },
  {
   "cell_type": "markdown",
   "metadata": {},
   "source": [
    "X_test = pd.read_csv('../data/file_test.csv')\n",
    "\n",
    "\n",
    "X_train = pd.read_csv('../data/file_train.csv')"
   ]
  },
  {
   "cell_type": "markdown",
   "metadata": {},
   "source": [
    "---\n",
    "\n",
    "## __Overview Dataset(s)__"
   ]
  },
  {
   "cell_type": "markdown",
   "metadata": {},
   "source": [
    "X_train.head()\n",
    "\n",
    "\n",
    "X_test.head()\n",
    "\n",
    "<br />\n",
    "\n",
    "print('Train:', file_train.shape)\n",
    "\n",
    "print('Test:', file_test.shape)"
   ]
  },
  {
   "cell_type": "markdown",
   "metadata": {},
   "source": [
    "---\n",
    "\n",
    "## __Define y_train and y_test__"
   ]
  },
  {
   "cell_type": "markdown",
   "metadata": {},
   "source": [
    "y_train = file_train['target']\n",
    "\n",
    "y_test = file_test['target']\n",
    "\n",
    "<br />\n",
    "\n",
    "X_train = file_train.drop(['target', 'further_columns_if_needed'], axis = 1)\n",
    "\n",
    "X_test = file_test.drop(['target', 'further_columns_if_needed'], axis = 1)\n",
    "\n",
    "<br />\n",
    "\n",
    "print('y Train:', y_train.shape)\n",
    "\n",
    "print('y Test:', y_test.shape)\n",
    "\n",
    "print('X Train:', X_train.shape)\n",
    "\n",
    "print('X Test:', X_test.shape)"
   ]
  },
  {
   "cell_type": "markdown",
   "metadata": {},
   "source": [
    "---\n",
    "\n",
    "## __Create Dummy Features if needed__"
   ]
  },
  {
   "cell_type": "markdown",
   "metadata": {},
   "source": [
    "X_train = pd.get_dummies(X_train, drop_first=True)\n",
    "\n",
    "\n",
    "X_test = pd.get_dummies(X_test, drop_first=True)\n",
    "\n",
    "\n",
    "print('X Train:', X_train.shape)\n",
    "\n",
    "\n",
    "print('X Test:', X_test.shape)"
   ]
  },
  {
   "cell_type": "markdown",
   "metadata": {},
   "source": [
    "---\n",
    "\n",
    "## __Preparing the model__"
   ]
  },
  {
   "cell_type": "markdown",
   "metadata": {},
   "source": [
    "lin_reg = sm.OLS(y_train, X_train)\n",
    "\n",
    "model = lin_reg.fit()\n",
    "\n",
    "model.summary()"
   ]
  },
  {
   "cell_type": "markdown",
   "metadata": {},
   "source": [
    "---\n",
    "\n",
    "___model.summary()___\n",
    "\n",
    "table 1 gives back the following details:\n",
    "\n",
    "* Dep. Variable:\ttarget\t\n",
    "* R-squared:\t\n",
    "\n",
    "* Model:\tOLS\tAdj. \n",
    "* R-squared:\t\n",
    "\n",
    "* Method:\tLeast Squares\t\n",
    "* F-statistic:\t\n",
    "\n",
    "* Date:\tweekday, DD MM\tYYYY\n",
    "* Time:\thh:mm:ss\t\n",
    "\n",
    "* Prob (F-statistic):\t\n",
    "* Log-Likelihood:\t\n",
    "\n",
    "* No. Observations:\t\n",
    "* Df Residuals:\t\n",
    "* Df Model:\n",
    "\n",
    "* AIC:\t\n",
    "* BIC:\t\n",
    "\n",
    "* Covariance Type\t\t\n",
    "\n",
    "---\n",
    "\n",
    "table 2 gives back the following details:\n",
    "\n",
    "* __header with column names: coef | std err | t | P>|t| | [0.025\t| 0.975]__\n",
    "* values for each row \n",
    "\n",
    "---\n",
    "\n",
    "table 3 gives back the following details:\n",
    "\n",
    "* Omnibus:\n",
    "* Durbin-Watson:\t\n",
    "* Prob(Omnibus):\t\n",
    "* Jarque-Bera (JB):\n",
    "* Skew:\n",
    "* Prob(JB):\n",
    "* Kurtosis:\t\n",
    "* Cond. No.\t"
   ]
  },
  {
   "cell_type": "markdown",
   "metadata": {},
   "source": [
    "---\n",
    "\n",
    "## __Prediction__"
   ]
  },
  {
   "cell_type": "markdown",
   "metadata": {},
   "source": [
    "y_pred = model.predict(X_test)\n",
    "\n",
    "y_pred"
   ]
  },
  {
   "cell_type": "markdown",
   "metadata": {},
   "source": [
    "y_pred_train = model.predict(X_train)\n",
    "\n",
    "\n",
    "y_pred_train"
   ]
  },
  {
   "cell_type": "markdown",
   "metadata": {},
   "source": [
    "sqrt(mean_squared_error(y_test, y_pred))"
   ]
  },
  {
   "cell_type": "markdown",
   "metadata": {},
   "source": [
    "sqrt(mean_squared_error(y_train, y_pred_train))"
   ]
  }
 ],
 "metadata": {
  "kernelspec": {
   "display_name": "Python 3 (ipykernel)",
   "language": "python",
   "name": "python3"
  },
  "language_info": {
   "codemirror_mode": {
    "name": "ipython",
    "version": 3
   },
   "file_extension": ".py",
   "mimetype": "text/x-python",
   "name": "python",
   "nbconvert_exporter": "python",
   "pygments_lexer": "ipython3",
   "version": "3.9.4"
  }
 },
 "nbformat": 4,
 "nbformat_minor": 5
}
