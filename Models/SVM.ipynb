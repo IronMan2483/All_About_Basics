{
 "cells": [
  {
   "cell_type": "markdown",
   "metadata": {},
   "source": [
    "# __SVM__"
   ]
  },
  {
   "cell_type": "markdown",
   "metadata": {},
   "source": [
    "## __Import Packages and Tools__"
   ]
  },
  {
   "cell_type": "markdown",
   "metadata": {},
   "source": [
    "import numpy as np\n",
    "\n",
    "import pandas as pd\n",
    "\n",
    "import seaborn as sns\n",
    "\n",
    "\n",
    "from sklearn import svm\n",
    "\n",
    "from sklearn.metrics import mean_squared_error\n",
    "\n",
    "from math import sqrt"
   ]
  },
  {
   "cell_type": "markdown",
   "metadata": {},
   "source": [
    "---\n",
    "\n",
    "## __Import Dataset(s)__"
   ]
  },
  {
   "cell_type": "markdown",
   "metadata": {},
   "source": [
    "X_test = pd.read_csv('../data/file_test.csv')\n",
    "\n",
    "\n",
    "X_train = pd.read_csv('../data/file_train.csv')"
   ]
  },
  {
   "cell_type": "markdown",
   "metadata": {},
   "source": [
    "---\n",
    "\n",
    "## __Overview Dataset(s)__"
   ]
  },
  {
   "cell_type": "markdown",
   "metadata": {},
   "source": [
    "X_train.head()\n",
    "\n",
    "\n",
    "X_test.head()\n",
    "\n",
    "<br />\n",
    "\n",
    "print('Train:', file_train.shape)\n",
    "\n",
    "print('Test:', file_test_data.shape)"
   ]
  },
  {
   "cell_type": "markdown",
   "metadata": {},
   "source": [
    "---\n",
    "\n",
    "## __Define y_train and y_test__"
   ]
  },
  {
   "cell_type": "markdown",
   "metadata": {},
   "source": [
    "#### ___Select feature and target___\n",
    "\n",
    "\n",
    "y_train = file_train['target']\n",
    "\n",
    "y_test = file_test['target']\n",
    "\n",
    "<br />\n",
    "\n",
    "X_train = file_train.drop(['target', 'further_columns_if_needed'], axis = 1)\n",
    "\n",
    "X_test = file_test.drop(['target', 'further_columns_if_needed'], axis = 1)\n",
    "\n",
    "<br />\n",
    "\n",
    "print('y Train:', y_train.shape)\n",
    "\n",
    "print('y Test:', y_test.shape)\n",
    "\n",
    "print('X Train:', X_train.shape)\n",
    "\n",
    "print('X Test:', X_test.shape)"
   ]
  },
  {
   "cell_type": "markdown",
   "metadata": {},
   "source": [
    "---\n",
    "\n",
    "## __Create Dummy Features if needed__"
   ]
  },
  {
   "cell_type": "markdown",
   "metadata": {},
   "source": [
    "X_train = pd.get_dummies(X_train, drop_first=True)\n",
    "\n",
    "\n",
    "X_test = pd.get_dummies(X_test, drop_first=True)\n",
    "\n",
    "\n",
    "print('X Train:', X_train.shape)\n",
    "\n",
    "\n",
    "print('X Test:', X_test.shape)"
   ]
  },
  {
   "cell_type": "markdown",
   "metadata": {},
   "source": [
    "---\n",
    "\n",
    "## __Preparing the model__"
   ]
  },
  {
   "cell_type": "markdown",
   "metadata": {},
   "source": [
    "clf = svm.SVR(kernel='rbf')\n",
    "\n",
    "\n",
    "clf.fit(X_train, y_train)"
   ]
  },
  {
   "cell_type": "markdown",
   "metadata": {},
   "source": [
    "---\n",
    "\n",
    "## __Prediction__"
   ]
  },
  {
   "cell_type": "markdown",
   "metadata": {},
   "source": [
    "y_pred_train = clf.predict(X_train)\n",
    "\n",
    "\n",
    "y_pred_test = clf.predict(X_test)\n",
    "\n",
    "<br />\n",
    "\n",
    "print('RMSE Train:', sqrt(mean_squared_error(y_train, y_pred_train)))\n",
    "\n",
    "\n",
    "print('RMSE Test:', sqrt(mean_squared_error(y_test, y_pred_test)))"
   ]
  }
 ],
 "metadata": {
  "language_info": {
   "name": "python"
  },
  "orig_nbformat": 4
 },
 "nbformat": 4,
 "nbformat_minor": 2
}
