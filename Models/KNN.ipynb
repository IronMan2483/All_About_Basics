{
 "cells": [
  {
   "cell_type": "markdown",
   "metadata": {},
   "source": [
    "# __KNN regression - k-nearest neighbors__"
   ]
  },
  {
   "cell_type": "markdown",
   "metadata": {},
   "source": [
    "## __Import Packages and Tools__"
   ]
  },
  {
   "cell_type": "markdown",
   "metadata": {},
   "source": [
    "import numpy as np\n",
    "\n",
    "import pandas as pd\n",
    "\n",
    "import seaborn as sns\n",
    "\n",
    "\n",
    "from sklearn.neighbors import KNeighborsRegressor\n",
    "\n",
    "from sklearn.metrics import mean_squared_error\n",
    "\n",
    "from sklearn.model_selection import GridSearchCV, RandomizedSearchCV\n",
    "\n",
    "from sklearn.preprocessing import StandardScaler\n",
    "\n",
    "from math import sqrt\n",
    "\n",
    "\n",
    "import warnings\n",
    "\n",
    "warnings.filterwarnings(\"ignore\", category=UserWarning)"
   ]
  },
  {
   "cell_type": "markdown",
   "metadata": {},
   "source": [
    "---\n",
    "\n",
    "## __Import Dataset(s)__"
   ]
  },
  {
   "cell_type": "markdown",
   "metadata": {},
   "source": [
    "X_test = pd.read_csv('../data/file_test.csv')\n",
    "\n",
    "\n",
    "X_train = pd.read_csv('../data/file_train.csv')"
   ]
  },
  {
   "cell_type": "markdown",
   "metadata": {},
   "source": [
    "---\n",
    "\n",
    "## __Overview Dataset(s)__"
   ]
  },
  {
   "cell_type": "markdown",
   "metadata": {},
   "source": [
    "X_train.head()\n",
    "\n",
    "\n",
    "X_test.head()\n",
    "\n",
    "<br />\n",
    "\n",
    "print('Train:', file_train.shape)\n",
    "\n",
    "print('Test:', file_test.shape)"
   ]
  },
  {
   "cell_type": "markdown",
   "metadata": {},
   "source": [
    "---\n",
    "\n",
    "## __Define y_train und y_test__"
   ]
  },
  {
   "cell_type": "markdown",
   "metadata": {},
   "source": [
    "y_train = file_train['target']\n",
    "\n",
    "y_test = file_test['target']\n",
    "\n",
    "<br />\n",
    "\n",
    "X_train = file_train.drop(['target', 'further_columns_if_needed'], axis = 1)\n",
    "\n",
    "X_test = file_test.drop(['target', 'further_columns_if_needed'], axis = 1)\n",
    "\n",
    "<br />\n",
    "\n",
    "print('y Train:', y_train.shape)\n",
    "\n",
    "print('y Test:', y_test.shape)\n",
    "\n",
    "print('X Train:', X_train.shape)\n",
    "\n",
    "print('X Test:', X_test.shape)"
   ]
  },
  {
   "cell_type": "markdown",
   "metadata": {},
   "source": [
    "---\n",
    "\n",
    "## __Create Dummy Features if needed__"
   ]
  },
  {
   "cell_type": "markdown",
   "metadata": {},
   "source": [
    "X_train = pd.get_dummies(X_train, drop_first=True)\n",
    "\n",
    "\n",
    "X_test = pd.get_dummies(X_test, drop_first=True)\n",
    "\n",
    "\n",
    "print('X Train:', X_train.shape)\n",
    "\n",
    "\n",
    "print('X Test:', X_test.shape)"
   ]
  },
  {
   "cell_type": "markdown",
   "metadata": {},
   "source": [
    "---\n",
    "\n",
    "## __Train the model__"
   ]
  },
  {
   "cell_type": "markdown",
   "metadata": {},
   "source": [
    "knn = KNeighborsRegressor(n_neighbors=600, metric='minkowski', p=2, weights='distance', n_jobs=-1)\n",
    "\n",
    "\n",
    "knn.fit(X_train, np.ravel(y_train))"
   ]
  },
  {
   "cell_type": "markdown",
   "metadata": {},
   "source": [
    "---\n",
    "\n",
    "## __Predictions__"
   ]
  },
  {
   "cell_type": "markdown",
   "metadata": {},
   "source": [
    "y_pred_train = knn.predict(X_train)\n",
    "\n",
    "\n",
    "y_pred_test = knn.predict(X_test)\n",
    "\n",
    "<br />\n",
    "\n",
    "print('RMSE Train:', sqrt(mean_squared_error(y_train, y_pred_train)))\n",
    "\n",
    "\n",
    "print('RMSE Test:', sqrt(mean_squared_error(y_test, y_pred_test)))"
   ]
  },
  {
   "cell_type": "markdown",
   "metadata": {},
   "source": [
    "---\n",
    "---\n",
    "## ___GRIDSEARCH ONLY IF NEEDED (TAKES LONG)___\n",
    "\n",
    "---\n",
    "---"
   ]
  },
  {
   "cell_type": "markdown",
   "metadata": {},
   "source": [
    "---\n",
    "\n",
    "## __Randomized Search for KNN: Prepare GridSearch__"
   ]
  },
  {
   "cell_type": "markdown",
   "metadata": {},
   "source": [
    "#### Defining parameter grid (as dictionary)\n",
    "param_grid = {'n_neighbors':[5,10,50,100,500],\n",
    "              'weights':['uniform', 'distance'],\n",
    "              'p':[1,2,3,4],\n",
    "             }\n",
    "\n",
    "<br />\n",
    "\n",
    "#### Instantiate gridsearch and define the metric to optimize \n",
    "rs_KNN = RandomizedSearchCV(KNeighborsRegressor(), param_grid, scoring='neg_root_mean_squared_error',cv=5, verbose=2, n_jobs=-1, random_state=42)\n",
    "\n",
    "<br />\n",
    "\n",
    "#### Fit gridsearch object to data.. also lets see how long it takes\n",
    "rs_KNN.fit(X_train, y_train)\n",
    "\n",
    "<br />\n",
    "\n",
    "#### Best Score and parameters\n",
    "print('Best score:', round(rs_KNN.best_score_, 3))\n",
    "\n",
    "\n",
    "print('Best parameters:', rs_KNN.best_params_)"
   ]
  },
  {
   "cell_type": "markdown",
   "metadata": {},
   "source": [
    "---\n",
    "\n",
    "## __Predictions after Randomized Search__"
   ]
  },
  {
   "cell_type": "markdown",
   "metadata": {},
   "source": [
    "y_pred_train = rs_KNN.predict(X_train)\n",
    "\n",
    "y_pred_test = rs_KNN.predict(X_test)"
   ]
  },
  {
   "cell_type": "markdown",
   "metadata": {},
   "source": [
    "print('RMSE Train:', sqrt(mean_squared_error(y_train, y_pred_train)))\n",
    "\n",
    "print('RMSE Test:', sqrt(mean_squared_error(y_test, y_pred_test)))"
   ]
  },
  {
   "cell_type": "markdown",
   "metadata": {},
   "source": [
    "---\n",
    "\n",
    "## __Grid Search__"
   ]
  },
  {
   "cell_type": "markdown",
   "metadata": {},
   "source": [
    "#### Defining parameter grid (as dictionary)\n",
    "param_grid = {'n_neighbors':[10,50,100],\n",
    "              'weights':['uniform', 'distance'],\n",
    "              'p':[1,2,3],\n",
    "             }\n",
    "\n",
    "<br />\n",
    "\n",
    "#### Instantiate gridsearch and define the metric to optimize \n",
    "gs_KNN = GridSearchCV(KNeighborsRegressor(), param_grid, scoring='neg_root_mean_squared_error',cv=5, verbose=2, n_jobs=-1)\n",
    "\n",
    "<br />\n",
    "\n",
    "#### Fit gridsearch object to data.. also lets see how long it takes\n",
    "gs_KNN.fit(X_train, y_train)"
   ]
  },
  {
   "cell_type": "markdown",
   "metadata": {},
   "source": [
    "#### Best score and parameters\n",
    "print('Best score:', round(gs_KNN.best_score_, 3))\n",
    "\n",
    "\n",
    "print('Best parameters:', gs_KNN.best_params_)"
   ]
  },
  {
   "cell_type": "markdown",
   "metadata": {},
   "source": [
    "---\n",
    "\n",
    "## __Predictions after GridSearch__"
   ]
  },
  {
   "cell_type": "markdown",
   "metadata": {},
   "source": [
    "y_pred_train = gs_KNN.predict(X_train)\n",
    "\n",
    "y_pred_test = gs_KNN.predict(X_test)"
   ]
  },
  {
   "cell_type": "markdown",
   "metadata": {},
   "source": [
    "print('RMSE Train:', sqrt(mean_squared_error(y_train, y_pred_train)))\n",
    "\n",
    "print('RMSE Test:', sqrt(mean_squared_error(y_test, y_pred_test)))"
   ]
  },
  {
   "cell_type": "markdown",
   "metadata": {},
   "source": [
    "---\n",
    "\n",
    "## __Scaling with Standard Scaler - if needed__"
   ]
  },
  {
   "cell_type": "markdown",
   "metadata": {},
   "source": [
    "scaler = StandardScaler()\n",
    "\n",
    "X_train_scaled = scaler.fit_transform(X_train)\n",
    "\n",
    "X_test_scaled = scaler.transform(X_test)"
   ]
  },
  {
   "cell_type": "markdown",
   "metadata": {},
   "source": [
    "---\n",
    "\n",
    "## __Train the model after GridSearch__"
   ]
  },
  {
   "cell_type": "markdown",
   "metadata": {},
   "source": [
    "knn_scaled = KNeighborsRegressor(n_neighbors=10, metric='minkowski', p=1, weights='distance', n_jobs=-1)\n",
    "\n",
    "knn_scaled.fit(X_train_scaled, np.ravel(y_train))"
   ]
  },
  {
   "cell_type": "markdown",
   "metadata": {},
   "source": [
    "---\n",
    "\n",
    "## __Last Predictions__"
   ]
  },
  {
   "cell_type": "markdown",
   "metadata": {},
   "source": [
    "y_pred_train = knn_scaled.predict(X_train_scaled)\n",
    "\n",
    "y_pred_test = knn_scaled.predict(X_test_scaled)"
   ]
  },
  {
   "cell_type": "markdown",
   "metadata": {},
   "source": [
    "print('RMSE Train:', sqrt(mean_squared_error(y_train, y_pred_train)))\n",
    "\n",
    "print('RMSE Test:', sqrt(mean_squared_error(y_test, y_pred_test)))"
   ]
  }
 ],
 "metadata": {
  "language_info": {
   "name": "python"
  },
  "orig_nbformat": 4
 },
 "nbformat": 4,
 "nbformat_minor": 2
}
