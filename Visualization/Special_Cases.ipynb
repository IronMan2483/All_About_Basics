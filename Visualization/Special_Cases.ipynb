{
 "cells": [
  {
   "cell_type": "markdown",
   "metadata": {},
   "source": [
    "# __Special Cases__"
   ]
  },
  {
   "cell_type": "markdown",
   "metadata": {},
   "source": [
    "## __Group Bar Plot in Matplotlib__"
   ]
  },
  {
   "cell_type": "markdown",
   "metadata": {},
   "source": [
    "### __Import Tools and Libraries__"
   ]
  },
  {
   "cell_type": "markdown",
   "metadata": {},
   "source": [
    "import pandas as pd\n",
    "\n",
    "import matplotlib.pyplot as plt\n",
    "\n",
    "import numpy as np\n",
    "\n",
    "%matplotlib inline"
   ]
  },
  {
   "cell_type": "markdown",
   "metadata": {},
   "source": [
    "---\n",
    "\n",
    "### __Load Dataset(s)__"
   ]
  },
  {
   "cell_type": "markdown",
   "metadata": {},
   "source": [
    "dataset_name = pd.read_csv('../data/file.csv')"
   ]
  },
  {
   "cell_type": "markdown",
   "metadata": {},
   "source": [
    "---\n",
    "\n",
    "### __Overview Dataset(s)__"
   ]
  },
  {
   "cell_type": "markdown",
   "metadata": {},
   "source": [
    "dataset_name.head()"
   ]
  },
  {
   "cell_type": "markdown",
   "metadata": {},
   "source": [
    "#### To see the column names\n",
    "\n",
    "* OPTION 1: \n",
    "    `\n",
    "    for col in data.columns:\n",
    "        print(col)\n",
    "    `\n",
    "\n",
    "* OPTION 2:\n",
    "    `\n",
    "    list(dataset_name.columns)\n",
    "    `\n",
    "\n",
    "* OPTION 3:\n",
    "    `\n",
    "    list(data.columns.values)\n",
    "    `\n",
    "\n",
    "* OPTION 4: \n",
    "    `\n",
    "    list(data.columns.values.tolist())\n",
    "    `\n",
    "\n",
    "* OPTION 5:\n",
    "    `\n",
    "    sorted(data)\n",
    "    `\n",
    "\n",
    "* OPTION 6:\n",
    "    `\n",
    "    print(df.columns)\n",
    "    `\n"
   ]
  },
  {
   "cell_type": "markdown",
   "metadata": {},
   "source": [
    "---\n",
    "\n",
    "### __Prepare the plot__"
   ]
  },
  {
   "cell_type": "markdown",
   "metadata": {},
   "source": [
    "#### 1. Setting the positions and width for the bars\n",
    "\n",
    "        pos = list(range(len(dataset_name['column2']))) \n",
    "        width = 0.25\n",
    "\n",
    "    \n",
    "#### 2. Plotting the bars\n",
    "\n",
    "       fig, ax = plt.subplots(figsize=(10,5))\n",
    "\n",
    "\n",
    "##### figsize is the width and height of the plot\n",
    "\n",
    "\n",
    "\n",
    "\n",
    "#### 3. Create the first bar with column2 - incl. position, [0] means first value in column1\n",
    "\n",
    "        plt.bar(pos, \n",
    "                dataset_name['column2'], \n",
    "                width, \n",
    "                alpha=0.5, \n",
    "                color='red', \n",
    "                label=dataset_name['column1'][0]) \n",
    "\n",
    "\n",
    "#### 4. Create the second bar with column3 - incl. position, [1] means second value in column1\n",
    "\n",
    "        plt.bar(p + width for p in pos],\n",
    "                dataset_name['column3'], \n",
    "                width, \n",
    "                alpha=0.5, \n",
    "                color='blue', \n",
    "                label=dataset_name['column1'][1]) \n",
    "\n",
    "\n",
    "#### 5. Create the third bar with column4 - incl. position, [2] means third value in column1\n",
    "\n",
    "        plt.bar(p + width*2 for p in pos],\n",
    "                dataset_name['column4'], \n",
    "                width, \n",
    "                alpha=0.5, \n",
    "                color='yellow', \n",
    "                label=dataset_name['column1'][2]) \n",
    "\n",
    "\n",
    "\n",
    "#### 6. Set the y axis label\n",
    "     \n",
    "        ax.set_ylabel('label')\n",
    "\n",
    "\n",
    "#### 7. Set the chart's title\n",
    "\n",
    "        ax.set_title('title')\n",
    "\n",
    "\n",
    "#### 8. Set the position and labels of the x ticks\n",
    "\n",
    "            \n",
    "        ax.set_xticks([p + 1.5 * width for p in pos])\n",
    "        \n",
    "        ax.set_xticklabels(df['column1'])\n",
    "        \n",
    "\n",
    "#### 9. Setting the x-axis and y-axis limits\n",
    "        \n",
    "        plt.xlim(min(pos)-width, max(pos)+width*4)\n",
    "\n",
    "        plt.ylim([0, max(df['pre_score'] + df['mid_score'] + df['post_score'])] )\n",
    "        \n",
    "\n",
    "#### 10. Adding the legend and showing the plot\n",
    "        \n",
    "        plt.legend(['column2','column2', 'column3'], loc='upper left' OR 'best' OR 'upper right' OR 'lower left' OR 'lower left')\n",
    "\n",
    "        plt.show()\n",
    "        "
   ]
  }
 ],
 "metadata": {
  "language_info": {
   "name": "python"
  },
  "orig_nbformat": 4
 },
 "nbformat": 4,
 "nbformat_minor": 2
}
